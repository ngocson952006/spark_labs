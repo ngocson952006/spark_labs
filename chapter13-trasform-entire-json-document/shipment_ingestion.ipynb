{
 "cells": [
  {
   "cell_type": "code",
   "id": "initial_id",
   "metadata": {
    "collapsed": true,
    "ExecuteTime": {
     "end_time": "2024-12-21T11:29:40.833688Z",
     "start_time": "2024-12-21T11:29:40.830436Z"
    }
   },
   "source": [
    "import os\n",
    "from pyspark.sql import SparkSession\n",
    "from pyspark.sql import functions as F"
   ],
   "outputs": [],
   "execution_count": 12
  },
  {
   "metadata": {},
   "cell_type": "markdown",
   "source": "Define file paths",
   "id": "cc8000e06b9ea079"
  },
  {
   "metadata": {
    "ExecuteTime": {
     "end_time": "2024-12-21T11:29:40.840333Z",
     "start_time": "2024-12-21T11:29:40.837787Z"
    }
   },
   "cell_type": "code",
   "source": [
    "current_dir = os.getcwd()\n",
    "shipments_files_names = '../json_files/shipments.json'\n",
    "shipments_files_path = os.path.join(current_dir, shipments_files_names)"
   ],
   "id": "30b98054d39672c8",
   "outputs": [],
   "execution_count": 13
  },
  {
   "metadata": {},
   "cell_type": "markdown",
   "source": "Ingest data into Spark",
   "id": "8b7ac8b0d7956e44"
  },
  {
   "metadata": {
    "ExecuteTime": {
     "end_time": "2024-12-21T11:29:40.923455Z",
     "start_time": "2024-12-21T11:29:40.858438Z"
    }
   },
   "cell_type": "code",
   "source": [
    "spark = SparkSession.builder.appName(\"Transform entire JSON documents\").getOrCreate()\n",
    "shipments_df = spark.read.format(\"json\").option(\"multiline\", True).load(shipments_files_path)\n",
    "shipments_df.printSchema()"
   ],
   "id": "8e3c30465fa79c4b",
   "outputs": [
    {
     "name": "stdout",
     "output_type": "stream",
     "text": [
      "root\n",
      " |-- books: array (nullable = true)\n",
      " |    |-- element: struct (containsNull = true)\n",
      " |    |    |-- qty: long (nullable = true)\n",
      " |    |    |-- title: string (nullable = true)\n",
      " |-- customer: struct (nullable = true)\n",
      " |    |-- city: string (nullable = true)\n",
      " |    |-- country: string (nullable = true)\n",
      " |    |-- name: string (nullable = true)\n",
      " |    |-- state: string (nullable = true)\n",
      " |-- date: string (nullable = true)\n",
      " |-- shipmentId: long (nullable = true)\n",
      " |-- supplier: struct (nullable = true)\n",
      " |    |-- city: string (nullable = true)\n",
      " |    |-- country: string (nullable = true)\n",
      " |    |-- name: string (nullable = true)\n",
      " |    |-- state: string (nullable = true)\n",
      "\n"
     ]
    }
   ],
   "execution_count": 14
  },
  {
   "metadata": {
    "ExecuteTime": {
     "end_time": "2024-12-21T11:29:41.053673Z",
     "start_time": "2024-12-21T11:29:40.945900Z"
    }
   },
   "cell_type": "code",
   "source": "shipments_df.show()",
   "id": "924a617545cf71f8",
   "outputs": [
    {
     "name": "stdout",
     "output_type": "stream",
     "text": [
      "+--------------------+--------------------+----------+----------+--------------------+\n",
      "|               books|            customer|      date|shipmentId|            supplier|\n",
      "+--------------------+--------------------+----------+----------+--------------------+\n",
      "|[{2, Spark with J...|{Chapel Hill, USA...|2019-10-05|    458922|{Shelter Island, ...|\n",
      "+--------------------+--------------------+----------+----------+--------------------+\n",
      "\n"
     ]
    }
   ],
   "execution_count": 15
  },
  {
   "metadata": {},
   "cell_type": "markdown",
   "source": "Transformation",
   "id": "d702d768cd648071"
  },
  {
   "metadata": {
    "ExecuteTime": {
     "end_time": "2024-12-21T11:29:41.232607Z",
     "start_time": "2024-12-21T11:29:41.075753Z"
    }
   },
   "cell_type": "code",
   "source": [
    "shipments_df = (shipments_df.withColumn(\"country\", F.col('customer.country'))\n",
    "                .withColumn(\"city\", F.col(\"customer.city\"))\n",
    "                .withColumn(\"customer_name\", F.col(\"customer.name\"))\n",
    "                .withColumn(\"supplier_name\", F.col(\"supplier.name\"))\n",
    "                .withColumn(\"book_items\", F.explode(F.col(\"books\")))\n",
    "                .drop(\"books\", \"customer\", \"supplier\"))\n",
    "shipments_df = (shipments_df.withColumn(\"book_name\", F.col(\"book_items.title\"))\n",
    "                .withColumn(\"quantity\", F.col(\"book_items.qty\"))\n",
    "                .drop(\"book_items\"))\n",
    "# show df\n",
    "shipments_df.show()"
   ],
   "id": "f5993f889cdcb9a3",
   "outputs": [
    {
     "name": "stdout",
     "output_type": "stream",
     "text": [
      "+----------+----------+-------+-----------+-------------------+--------------------+--------------------+--------+\n",
      "|      date|shipmentId|country|       city|      customer_name|       supplier_name|           book_name|quantity|\n",
      "+----------+----------+-------+-----------+-------------------+--------------------+--------------------+--------+\n",
      "|2019-10-05|    458922|    USA|Chapel Hill|Jean Georges Perrin|Manning Publications|     Spark with Java|       2|\n",
      "|2019-10-05|    458922|    USA|Chapel Hill|Jean Georges Perrin|Manning Publications|Spark in Action, ...|      25|\n",
      "|2019-10-05|    458922|    USA|Chapel Hill|Jean Georges Perrin|Manning Publications|Spark in Action, ...|       1|\n",
      "+----------+----------+-------+-----------+-------------------+--------------------+--------------------+--------+\n",
      "\n"
     ]
    }
   ],
   "execution_count": 16
  },
  {
   "metadata": {},
   "cell_type": "markdown",
   "source": "Do analytics",
   "id": "265d4a0f0b71063c"
  },
  {
   "metadata": {
    "ExecuteTime": {
     "end_time": "2024-12-21T11:29:41.380372Z",
     "start_time": "2024-12-21T11:29:41.245671Z"
    }
   },
   "cell_type": "code",
   "source": [
    "shipments_df.createOrReplaceTempView(\"shipments_df\")\n",
    "shipments_count = spark.sql(\"SELECT COUNT(*) as total_of_shipments FROM shipments_df\")\n",
    "shipments_count.show()"
   ],
   "id": "c0dca6a7debc0b50",
   "outputs": [
    {
     "name": "stdout",
     "output_type": "stream",
     "text": [
      "+------------------+\n",
      "|total_of_shipments|\n",
      "+------------------+\n",
      "|                 3|\n",
      "+------------------+\n",
      "\n"
     ]
    }
   ],
   "execution_count": 17
  },
  {
   "metadata": {},
   "cell_type": "markdown",
   "source": "Save dataframe to file",
   "id": "d8b4f23965c0e991"
  },
  {
   "metadata": {
    "ExecuteTime": {
     "end_time": "2024-12-21T11:30:08.349478Z",
     "start_time": "2024-12-21T11:30:08.171200Z"
    }
   },
   "cell_type": "code",
   "source": [
    "output_path = '../output_files/shipments.csv'\n",
    "shipments_df.coalesce(1).write.csv(os.path.join(current_dir, output_path), mode=\"overwrite\", header=True)"
   ],
   "id": "93950a89535cd74a",
   "outputs": [],
   "execution_count": 19
  },
  {
   "metadata": {},
   "cell_type": "code",
   "outputs": [],
   "execution_count": null,
   "source": "spark.stop()",
   "id": "edb3c54ca517e7c0"
  }
 ],
 "metadata": {
  "kernelspec": {
   "display_name": "Python 3",
   "language": "python",
   "name": "python3"
  },
  "language_info": {
   "codemirror_mode": {
    "name": "ipython",
    "version": 2
   },
   "file_extension": ".py",
   "mimetype": "text/x-python",
   "name": "python",
   "nbconvert_exporter": "python",
   "pygments_lexer": "ipython2",
   "version": "2.7.6"
  }
 },
 "nbformat": 4,
 "nbformat_minor": 5
}
