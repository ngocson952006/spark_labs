{
 "cells": [
  {
   "cell_type": "code",
   "id": "initial_id",
   "metadata": {
    "collapsed": true,
    "ExecuteTime": {
     "end_time": "2025-02-17T13:19:42.295570Z",
     "start_time": "2025-02-17T13:19:42.291095Z"
    }
   },
   "source": [
    "import os\n",
    "from pyspark.ml.evaluation import MulticlassClassificationEvaluator\n",
    "from pyspark.ml.classification import RandomForestClassifier\n",
    "from pyspark.ml.feature import StringIndexer, VectorAssembler\n",
    "from pyspark.sql import SparkSession\n",
    "from pyspark.sql import functions as F\n",
    "from pyspark.sql.window import Window\n",
    "from pyspark.ml.linalg import Vectors, VectorUDT\n",
    "from pyspark.sql.functions import udf\n",
    "import json\n"
   ],
   "outputs": [],
   "execution_count": 795
  },
  {
   "metadata": {
    "ExecuteTime": {
     "end_time": "2025-02-17T13:19:42.316500Z",
     "start_time": "2025-02-17T13:19:42.314020Z"
    }
   },
   "cell_type": "code",
   "source": [
    "# Define data paths\n",
    "current_dir = os.getcwd()\n",
    "file_name = '../csv_files/lottery_data/*.csv'\n",
    "file_path = os.path.join(current_dir, file_name)"
   ],
   "id": "f6612f367206076b",
   "outputs": [],
   "execution_count": 796
  },
  {
   "metadata": {},
   "cell_type": "markdown",
   "source": "Data Ingestion",
   "id": "3ff89c562410c8"
  },
  {
   "metadata": {
    "ExecuteTime": {
     "end_time": "2025-02-17T13:19:42.812388Z",
     "start_time": "2025-02-17T13:19:42.332189Z"
    }
   },
   "cell_type": "code",
   "source": [
    "# Initialize PySpark Session\n",
    "spark = SparkSession.builder.appName(\"LotteryNumberPrediction\").getOrCreate()\n",
    "original_df = spark.read.csv(file_path, header=True, inferSchema=True)\n",
    "print(original_df.count())"
   ],
   "id": "231f4eaf30f1e5ea",
   "outputs": [
    {
     "name": "stdout",
     "output_type": "stream",
     "text": [
      "3420\n"
     ]
    }
   ],
   "execution_count": 797
  },
  {
   "metadata": {},
   "cell_type": "markdown",
   "source": "Data Transformation",
   "id": "4351e25f4c0408ab"
  },
  {
   "metadata": {
    "ExecuteTime": {
     "end_time": "2025-02-17T13:19:43.072225Z",
     "start_time": "2025-02-17T13:19:42.832030Z"
    }
   },
   "cell_type": "code",
   "source": [
    "original_df = original_df.withColumn(\"prize_codes\", F.regexp_replace(F.col(\"prize_codes\"), \" \", \",\"))\n",
    "transformation_df = (original_df.groupBy(\"date\")\n",
    "                     .agg(F.collect_list(\"prize_codes\").alias(\"numbers_list\"))\n",
    "                     .withColumn(\"numbers_raw_string\", F.concat_ws(\",\", F.col(\"numbers_list\")))\n",
    "                     .withColumn(\"numbers\", F.split(F.col(\"numbers_raw_string\"), \",\"))\n",
    "                     .withColumn(\"partition_order\", F.lit(1))\n",
    "                     .select(\"date\", \"numbers_raw_string\", \"numbers\", \"partition_order\"))\n",
    "transformation_df.show(5, truncate=False)\n"
   ],
   "id": "5d28bdbc9317d629",
   "outputs": [
    {
     "name": "stdout",
     "output_type": "stream",
     "text": [
      "+---------+---------------------------------------------------------------------------------------------------+----------------------------------------------------------------------------------------------------------------------+---------------+\n",
      "|date     |numbers_raw_string                                                                                 |numbers                                                                                                               |partition_order|\n",
      "+---------+---------------------------------------------------------------------------------------------------+----------------------------------------------------------------------------------------------------------------------+---------------+\n",
      "|1-1-2023 |78,025,4128,6164,1016,8291,42816,17683,21052,80002,98666,41587,52863,55898,37552,62140,88528,313644|[78, 025, 4128, 6164, 1016, 8291, 42816, 17683, 21052, 80002, 98666, 41587, 52863, 55898, 37552, 62140, 88528, 313644]|1              |\n",
      "|1-1-2025 |67,191,1275,3000,3947,6198,30001,55234,60691,93910,07485,77321,80383,45885,41921,71797,22946,866605|[67, 191, 1275, 3000, 3947, 6198, 30001, 55234, 60691, 93910, 07485, 77321, 80383, 45885, 41921, 71797, 22946, 866605]|1              |\n",
      "|1-10-2023|97,841,1867,3645,0309,5229,19461,97828,92320,61721,90356,49959,68737,98972,59878,29338,90208,417218|[97, 841, 1867, 3645, 0309, 5229, 19461, 97828, 92320, 61721, 90356, 49959, 68737, 98972, 59878, 29338, 90208, 417218]|1              |\n",
      "|1-11-2023|28,988,9327,3515,9463,7203,25387,05282,78109,32083,55964,05699,38720,80349,84363,29404,17658,951961|[28, 988, 9327, 3515, 9463, 7203, 25387, 05282, 78109, 32083, 55964, 05699, 38720, 80349, 84363, 29404, 17658, 951961]|1              |\n",
      "|1-12-2021|92,637,4242,9713,3866,8217,73752,97053,11117,91142,13661,21099,25445,47269,49616,55386,96039,551882|[92, 637, 4242, 9713, 3866, 8217, 73752, 97053, 11117, 91142, 13661, 21099, 25445, 47269, 49616, 55386, 96039, 551882]|1              |\n",
      "+---------+---------------------------------------------------------------------------------------------------+----------------------------------------------------------------------------------------------------------------------+---------------+\n",
      "only showing top 5 rows\n",
      "\n"
     ]
    }
   ],
   "execution_count": 798
  },
  {
   "metadata": {},
   "cell_type": "markdown",
   "source": "Data Analysis",
   "id": "7491f9ed4c83b73d"
  },
  {
   "metadata": {
    "ExecuteTime": {
     "end_time": "2025-02-17T13:19:43.442218Z",
     "start_time": "2025-02-17T13:19:43.098697Z"
    }
   },
   "cell_type": "code",
   "source": [
    "# We have essential data, start do analysis and do predictions\n",
    "# Using PySpark, you can perform frequency analysis to determine the most common and least common numbers.\n",
    "exploded_df = transformation_df.withColumn(\"number\", F.explode(F.col(\"numbers\")))\n",
    "frequency_df = exploded_df.groupBy(\"Number\").count()\n",
    "# Show the most frequent numbers\n",
    "frequency_df.show(10, truncate=False)"
   ],
   "id": "73031ea7aca84723",
   "outputs": [
    {
     "name": "stdout",
     "output_type": "stream",
     "text": [
      "+------+-----+\n",
      "|Number|count|\n",
      "+------+-----+\n",
      "|57496 |1    |\n",
      "|16576 |1    |\n",
      "|70962 |1    |\n",
      "|07    |2    |\n",
      "|04438 |1    |\n",
      "|29865 |1    |\n",
      "|68325 |1    |\n",
      "|70097 |1    |\n",
      "|39458 |1    |\n",
      "|44446 |1    |\n",
      "+------+-----+\n",
      "only showing top 10 rows\n",
      "\n"
     ]
    }
   ],
   "execution_count": 799
  },
  {
   "metadata": {
    "ExecuteTime": {
     "end_time": "2025-02-17T13:19:44.167893Z",
     "start_time": "2025-02-17T13:19:43.458263Z"
    }
   },
   "cell_type": "code",
   "source": [
    "# Hot and Cold Numbers\n",
    "hot_numbers = frequency_df.orderBy(F.col(\"count\").desc()).limit(5)\n",
    "hot_numbers.show()\n",
    "cold_numbers = frequency_df.orderBy(F.col(\"count\").asc()).limit(5)\n",
    "cold_numbers.show()"
   ],
   "id": "9d07d2c78ff0bbd",
   "outputs": [
    {
     "name": "stdout",
     "output_type": "stream",
     "text": [
      "+------+-----+\n",
      "|Number|count|\n",
      "+------+-----+\n",
      "|    77|    9|\n",
      "|    40|    8|\n",
      "|    67|    8|\n",
      "|    20|    8|\n",
      "|    85|    7|\n",
      "+------+-----+\n",
      "\n",
      "+------+-----+\n",
      "|Number|count|\n",
      "+------+-----+\n",
      "| 29865|    1|\n",
      "| 44446|    1|\n",
      "| 68325|    1|\n",
      "| 16576|    1|\n",
      "| 70097|    1|\n",
      "+------+-----+\n",
      "\n"
     ]
    }
   ],
   "execution_count": 800
  },
  {
   "metadata": {
    "ExecuteTime": {
     "end_time": "2025-02-17T13:19:45.986909Z",
     "start_time": "2025-02-17T13:19:44.240797Z"
    }
   },
   "cell_type": "code",
   "source": [
    "# Build dataset for predictions\n",
    "window = Window.partitionBy(\"partition_order\").orderBy(\"date\")\n",
    "\n",
    "def split_and_convert_to_vector(raw_string):\n",
    "    try:\n",
    "        if raw_string is None or raw_string.strip() == \"\":\n",
    "            # Return an empty dense vector if the input is null or an empty string\n",
    "            return Vectors.dense([])\n",
    "        else:\n",
    "            # Otherwise, split the string by commas and convert to a dense vector\n",
    "            return Vectors.dense([float(num) for num in raw_string.split(\",\")])\n",
    "    except Exception:\n",
    "        return Vectors.dense([])\n",
    "\n",
    "\n",
    "# (2) Register UDF\n",
    "split_to_vector_udf = udf(split_and_convert_to_vector, VectorUDT())\n",
    "\n",
    "# cache for better performance\n",
    "transformation_df = transformation_df.cache()\n",
    "\n",
    "# Add columns for previous draw (lagged data)\n",
    "transformation_df = transformation_df.withColumn(\"PrevDraw1\", F.lag(\"numbers_raw_string\", 1).over(window))  # Lag by 1\n",
    "transformation_df = transformation_df.withColumn(\"PrevDraw2\", F.lag(\"numbers_raw_string\", 2).over(window))\n",
    "# (3) Convert PrevDraw1 and PrevDraw2 to dense vectors\n",
    "transformation_df = transformation_df.withColumn(\"PrevDraw1Vector\", split_to_vector_udf(\"PrevDraw1\"))\n",
    "transformation_df = transformation_df.withColumn(\"PrevDraw2Vector\", split_to_vector_udf(\"PrevDraw2\"))\n",
    "# Lag by 2\n",
    "transformation_df = transformation_df.filter(F.col(\"PrevDraw1\").isNotNull() & F.col(\"PrevDraw2\").isNotNull())\n",
    "transformation_df.show()\n"
   ],
   "id": "583facf0c25af74c",
   "outputs": [
    {
     "name": "stdout",
     "output_type": "stream",
     "text": [
      "+----------+--------------------+--------------------+---------------+--------------------+--------------------+--------------------+--------------------+\n",
      "|      date|  numbers_raw_string|             numbers|partition_order|           PrevDraw1|           PrevDraw2|     PrevDraw1Vector|     PrevDraw2Vector|\n",
      "+----------+--------------------+--------------------+---------------+--------------------+--------------------+--------------------+--------------------+\n",
      "| 1-10-2023|97,841,1867,3645,...|[97, 841, 1867, 3...|              1|67,191,1275,3000,...|78,025,4128,6164,...|[67.0,191.0,1275....|[78.0,25.0,4128.0...|\n",
      "| 1-11-2023|28,988,9327,3515,...|[28, 988, 9327, 3...|              1|97,841,1867,3645,...|67,191,1275,3000,...|[97.0,841.0,1867....|[67.0,191.0,1275....|\n",
      "| 1-12-2021|92,637,4242,9713,...|[92, 637, 4242, 9...|              1|28,988,9327,3515,...|97,841,1867,3645,...|[28.0,988.0,9327....|[97.0,841.0,1867....|\n",
      "| 1-12-2024|81,140,9845,0147,...|[81, 140, 9845, 0...|              1|92,637,4242,9713,...|28,988,9327,3515,...|[92.0,637.0,4242....|[28.0,988.0,9327....|\n",
      "|  1-2-2023|68,666,1016,1680,...|[68, 666, 1016, 1...|              1|81,140,9845,0147,...|92,637,4242,9713,...|[81.0,140.0,9845....|[92.0,637.0,4242....|\n",
      "|  1-3-2023|84,388,9332,4895,...|[84, 388, 9332, 4...|              1|68,666,1016,1680,...|81,140,9845,0147,...|[68.0,666.0,1016....|[81.0,140.0,9845....|\n",
      "|  1-5-2022|83,357,3111,7262,...|[83, 357, 3111, 7...|              1|84,388,9332,4895,...|68,666,1016,1680,...|[84.0,388.0,9332....|[68.0,666.0,1016....|\n",
      "|  1-5-2024|02,823,0615,5539,...|[02, 823, 0615, 5...|              1|83,357,3111,7262,...|84,388,9332,4895,...|[83.0,357.0,3111....|[84.0,388.0,9332....|\n",
      "|  1-6-2022|76,722,6514,1027,...|[76, 722, 6514, 1...|              1|02,823,0615,5539,...|83,357,3111,7262,...|[2.0,823.0,615.0,...|[83.0,357.0,3111....|\n",
      "|  1-9-2021|91,227,0485,6655,...|[91, 227, 0485, 6...|              1|76,722,6514,1027,...|02,823,0615,5539,...|[76.0,722.0,6514....|[2.0,823.0,615.0,...|\n",
      "| 10-1-2021|81,661,6432,1507,...|[81, 661, 6432, 1...|              1|91,227,0485,6655,...|76,722,6514,1027,...|[91.0,227.0,485.0...|[76.0,722.0,6514....|\n",
      "| 10-1-2024|39,344,7161,0215,...|[39, 344, 7161, 0...|              1|81,661,6432,1507,...|91,227,0485,6655,...|[81.0,661.0,6432....|[91.0,227.0,485.0...|\n",
      "|10-10-2021|67,168,4277,9771,...|[67, 168, 4277, 9...|              1|39,344,7161,0215,...|81,661,6432,1507,...|[39.0,344.0,7161....|[81.0,661.0,6432....|\n",
      "|10-11-2021|85,615,5358,3022,...|[85, 615, 5358, 3...|              1|67,168,4277,9771,...|39,344,7161,0215,...|[67.0,168.0,4277....|[39.0,344.0,7161....|\n",
      "|10-11-2024|29,597,2844,6439,...|[29, 597, 2844, 6...|              1|85,615,5358,3022,...|67,168,4277,9771,...|[85.0,615.0,5358....|[67.0,168.0,4277....|\n",
      "| 10-2-2021|75,119,8655,2032,...|[75, 119, 8655, 2...|              1|29,597,2844,6439,...|85,615,5358,3022,...|[29.0,597.0,2844....|[85.0,615.0,5358....|\n",
      "| 10-3-2021|29,193,7575,8191,...|[29, 193, 7575, 8...|              1|75,119,8655,2032,...|29,597,2844,6439,...|[75.0,119.0,8655....|[29.0,597.0,2844....|\n",
      "| 10-3-2024|36,825,5186,2529,...|[36, 825, 5186, 2...|              1|29,193,7575,8191,...|75,119,8655,2032,...|[29.0,193.0,7575....|[75.0,119.0,8655....|\n",
      "| 10-4-2022|14,405,3551,4676,...|[14, 405, 3551, 4...|              1|36,825,5186,2529,...|29,193,7575,8191,...|[36.0,825.0,5186....|[29.0,193.0,7575....|\n",
      "| 10-4-2024|22,427,6143,9713,...|[22, 427, 6143, 9...|              1|14,405,3551,4676,...|36,825,5186,2529,...|[14.0,405.0,3551....|[36.0,825.0,5186....|\n",
      "+----------+--------------------+--------------------+---------------+--------------------+--------------------+--------------------+--------------------+\n",
      "only showing top 20 rows\n",
      "\n"
     ]
    },
    {
     "name": "stderr",
     "output_type": "stream",
     "text": [
      "                                                                                \r"
     ]
    }
   ],
   "execution_count": 801
  },
  {
   "metadata": {
    "ExecuteTime": {
     "end_time": "2025-02-17T13:19:51.555195Z",
     "start_time": "2025-02-17T13:19:46.115976Z"
    }
   },
   "cell_type": "code",
   "source": [
    "# Train a Machine Learning Model\n",
    "# For simplicity, let's train a **Random Forest Classifier** using Apache Spark's MLlib to predict future numbers based on previous draws.\n",
    "# Convert numbers into numeric/categorical features\n",
    "indexer = StringIndexer(inputCol=\"numbers_raw_string\", outputCol=\"label\")\n",
    "indexer_model = indexer.fit(transformation_df)\n",
    "transformation_df = indexer.fit(transformation_df).transform(transformation_df)\n",
    "\n",
    "# Assemble features from PrevDraw1Vector and PrevDraw2Vector\n",
    "assembler = VectorAssembler(inputCols=[\"PrevDraw1Vector\", \"PrevDraw2Vector\"], outputCol=\"features\")\n",
    "final_df = assembler.transform(transformation_df)\n",
    "\n",
    "# Ensure the features column is properly constructed\n",
    "final_df = final_df.select(\"date\", \"numbers_raw_string\", \"numbers\", \"PrevDraw1Vector\", \"PrevDraw2Vector\", \"features\", \"label\")\n",
    "final_df.show(5, truncate=False)\n",
    "\n",
    "# Split the training and test data\n",
    "train, test = final_df.randomSplit([0.8, 0.2], seed=40)\n",
    "\n",
    "# Initialize the model\n",
    "rf = RandomForestClassifier(featuresCol=\"features\", labelCol=\"label\")\n",
    "# Train the model\n",
    "rf_model = rf.fit(train)\n",
    "# Predict on test data\n",
    "predictions = rf_model.transform(test)"
   ],
   "id": "2b16b6f6f9e6ab7e",
   "outputs": [
    {
     "name": "stdout",
     "output_type": "stream",
     "text": [
      "+---------+---------------------------------------------------------------------------------------------------+----------------------------------------------------------------------------------------------------------------------+-----------------------------------------------------------------------------------------------------------------------------------------+-----------------------------------------------------------------------------------------------------------------------------------------+--------------------------------------------------------------------------------------------------------------------------------------------------------------------------------------------------------------------------------------------------------------------------------+-----+\n",
      "|date     |numbers_raw_string                                                                                 |numbers                                                                                                               |PrevDraw1Vector                                                                                                                          |PrevDraw2Vector                                                                                                                          |features                                                                                                                                                                                                                                                                        |label|\n",
      "+---------+---------------------------------------------------------------------------------------------------+----------------------------------------------------------------------------------------------------------------------+-----------------------------------------------------------------------------------------------------------------------------------------+-----------------------------------------------------------------------------------------------------------------------------------------+--------------------------------------------------------------------------------------------------------------------------------------------------------------------------------------------------------------------------------------------------------------------------------+-----+\n",
      "|1-10-2023|97,841,1867,3645,0309,5229,19461,97828,92320,61721,90356,49959,68737,98972,59878,29338,90208,417218|[97, 841, 1867, 3645, 0309, 5229, 19461, 97828, 92320, 61721, 90356, 49959, 68737, 98972, 59878, 29338, 90208, 417218]|[67.0,191.0,1275.0,3000.0,3947.0,6198.0,30001.0,55234.0,60691.0,93910.0,7485.0,77321.0,80383.0,45885.0,41921.0,71797.0,22946.0,866605.0] |[78.0,25.0,4128.0,6164.0,1016.0,8291.0,42816.0,17683.0,21052.0,80002.0,98666.0,41587.0,52863.0,55898.0,37552.0,62140.0,88528.0,313644.0] |[67.0,191.0,1275.0,3000.0,3947.0,6198.0,30001.0,55234.0,60691.0,93910.0,7485.0,77321.0,80383.0,45885.0,41921.0,71797.0,22946.0,866605.0,78.0,25.0,4128.0,6164.0,1016.0,8291.0,42816.0,17683.0,21052.0,80002.0,98666.0,41587.0,52863.0,55898.0,37552.0,62140.0,88528.0,313644.0] |367.0|\n",
      "|1-11-2023|28,988,9327,3515,9463,7203,25387,05282,78109,32083,55964,05699,38720,80349,84363,29404,17658,951961|[28, 988, 9327, 3515, 9463, 7203, 25387, 05282, 78109, 32083, 55964, 05699, 38720, 80349, 84363, 29404, 17658, 951961]|[97.0,841.0,1867.0,3645.0,309.0,5229.0,19461.0,97828.0,92320.0,61721.0,90356.0,49959.0,68737.0,98972.0,59878.0,29338.0,90208.0,417218.0] |[67.0,191.0,1275.0,3000.0,3947.0,6198.0,30001.0,55234.0,60691.0,93910.0,7485.0,77321.0,80383.0,45885.0,41921.0,71797.0,22946.0,866605.0] |[97.0,841.0,1867.0,3645.0,309.0,5229.0,19461.0,97828.0,92320.0,61721.0,90356.0,49959.0,68737.0,98972.0,59878.0,29338.0,90208.0,417218.0,67.0,191.0,1275.0,3000.0,3947.0,6198.0,30001.0,55234.0,60691.0,93910.0,7485.0,77321.0,80383.0,45885.0,41921.0,71797.0,22946.0,866605.0] |105.0|\n",
      "|1-12-2021|92,637,4242,9713,3866,8217,73752,97053,11117,91142,13661,21099,25445,47269,49616,55386,96039,551882|[92, 637, 4242, 9713, 3866, 8217, 73752, 97053, 11117, 91142, 13661, 21099, 25445, 47269, 49616, 55386, 96039, 551882]|[28.0,988.0,9327.0,3515.0,9463.0,7203.0,25387.0,5282.0,78109.0,32083.0,55964.0,5699.0,38720.0,80349.0,84363.0,29404.0,17658.0,951961.0]  |[97.0,841.0,1867.0,3645.0,309.0,5229.0,19461.0,97828.0,92320.0,61721.0,90356.0,49959.0,68737.0,98972.0,59878.0,29338.0,90208.0,417218.0] |[28.0,988.0,9327.0,3515.0,9463.0,7203.0,25387.0,5282.0,78109.0,32083.0,55964.0,5699.0,38720.0,80349.0,84363.0,29404.0,17658.0,951961.0,97.0,841.0,1867.0,3645.0,309.0,5229.0,19461.0,97828.0,92320.0,61721.0,90356.0,49959.0,68737.0,98972.0,59878.0,29338.0,90208.0,417218.0]  |349.0|\n",
      "|1-12-2024|81,140,9845,0147,6053,4598,62372,28172,79718,65625,12186,65583,12136,80188,64678,11214,94347,139966|[81, 140, 9845, 0147, 6053, 4598, 62372, 28172, 79718, 65625, 12186, 65583, 12136, 80188, 64678, 11214, 94347, 139966]|[92.0,637.0,4242.0,9713.0,3866.0,8217.0,73752.0,97053.0,11117.0,91142.0,13661.0,21099.0,25445.0,47269.0,49616.0,55386.0,96039.0,551882.0]|[28.0,988.0,9327.0,3515.0,9463.0,7203.0,25387.0,5282.0,78109.0,32083.0,55964.0,5699.0,38720.0,80349.0,84363.0,29404.0,17658.0,951961.0]  |[92.0,637.0,4242.0,9713.0,3866.0,8217.0,73752.0,97053.0,11117.0,91142.0,13661.0,21099.0,25445.0,47269.0,49616.0,55386.0,96039.0,551882.0,28.0,988.0,9327.0,3515.0,9463.0,7203.0,25387.0,5282.0,78109.0,32083.0,55964.0,5699.0,38720.0,80349.0,84363.0,29404.0,17658.0,951961.0] |308.0|\n",
      "|1-2-2023 |68,666,1016,1680,4157,9339,00655,43071,37318,98316,47655,54075,13997,48461,64982,58726,32244,796653|[68, 666, 1016, 1680, 4157, 9339, 00655, 43071, 37318, 98316, 47655, 54075, 13997, 48461, 64982, 58726, 32244, 796653]|[81.0,140.0,9845.0,147.0,6053.0,4598.0,62372.0,28172.0,79718.0,65625.0,12186.0,65583.0,12136.0,80188.0,64678.0,11214.0,94347.0,139966.0] |[92.0,637.0,4242.0,9713.0,3866.0,8217.0,73752.0,97053.0,11117.0,91142.0,13661.0,21099.0,25445.0,47269.0,49616.0,55386.0,96039.0,551882.0]|[81.0,140.0,9845.0,147.0,6053.0,4598.0,62372.0,28172.0,79718.0,65625.0,12186.0,65583.0,12136.0,80188.0,64678.0,11214.0,94347.0,139966.0,92.0,637.0,4242.0,9713.0,3866.0,8217.0,73752.0,97053.0,11117.0,91142.0,13661.0,21099.0,25445.0,47269.0,49616.0,55386.0,96039.0,551882.0]|256.0|\n",
      "+---------+---------------------------------------------------------------------------------------------------+----------------------------------------------------------------------------------------------------------------------+-----------------------------------------------------------------------------------------------------------------------------------------+-----------------------------------------------------------------------------------------------------------------------------------------+--------------------------------------------------------------------------------------------------------------------------------------------------------------------------------------------------------------------------------------------------------------------------------+-----+\n",
      "only showing top 5 rows\n",
      "\n"
     ]
    },
    {
     "name": "stderr",
     "output_type": "stream",
     "text": [
      "25/02/17 20:19:50 WARN DAGScheduler: Broadcasting large task binary with size 1316.3 KiB\n",
      "25/02/17 20:19:50 WARN DAGScheduler: Broadcasting large task binary with size 2.0 MiB\n"
     ]
    }
   ],
   "execution_count": 802
  },
  {
   "metadata": {},
   "cell_type": "markdown",
   "source": "Model evaluation",
   "id": "81adbc6acf47d1b3"
  },
  {
   "metadata": {
    "ExecuteTime": {
     "end_time": "2025-02-17T13:19:52.580570Z",
     "start_time": "2025-02-17T13:19:51.606815Z"
    }
   },
   "cell_type": "code",
   "source": [
    "# Evaluate Accuracy\n",
    "evaluator_acc = MulticlassClassificationEvaluator(\n",
    "    labelCol=\"label\", predictionCol=\"prediction\", metricName=\"accuracy\"\n",
    ")\n",
    "accuracy = evaluator_acc.evaluate(predictions)\n",
    "\n",
    "# Evaluate F1 Score\n",
    "evaluator_f1 = MulticlassClassificationEvaluator(\n",
    "    labelCol=\"label\", predictionCol=\"prediction\", metricName=\"f1\"\n",
    ")\n",
    "f1_score = evaluator_f1.evaluate(predictions)\n",
    "\n",
    "# Print the metrics\n",
    "print(f\"Accuracy: {accuracy:.4f}\")\n",
    "print(f\"F1 Score: {f1_score:.4f}\")"
   ],
   "id": "e637241a3affec0c",
   "outputs": [
    {
     "name": "stderr",
     "output_type": "stream",
     "text": [
      "25/02/17 20:19:51 WARN DAGScheduler: Broadcasting large task binary with size 2.1 MiB\n"
     ]
    },
    {
     "name": "stdout",
     "output_type": "stream",
     "text": [
      "Accuracy: 0.0000\n",
      "F1 Score: 0.0000\n"
     ]
    },
    {
     "name": "stderr",
     "output_type": "stream",
     "text": [
      "25/02/17 20:19:52 WARN DAGScheduler: Broadcasting large task binary with size 2.1 MiB\n"
     ]
    }
   ],
   "execution_count": 803
  },
  {
   "metadata": {
    "ExecuteTime": {
     "end_time": "2025-02-17T13:19:53.418357Z",
     "start_time": "2025-02-17T13:19:52.614273Z"
    }
   },
   "cell_type": "code",
   "source": [
    "### **Predict the Next Draw**\n",
    "# Predict based on the most recent draws\n",
    "latest_data = final_df.orderBy(F.col(\"date\").desc()).limit(1)\n",
    "predicted_next = rf_model.transform(latest_data)\n",
    "\n",
    "label_to_raw_string = indexer_model.labels\n",
    "# Map predictions back to raw strings\n",
    "predicted_next = predicted_next.withColumn(\n",
    "    \"predicted_numbers_raw_string\",\n",
    "    F.udf(lambda pred: label_to_raw_string[int(pred)], StringType())(F.col(\"prediction\")))\n",
    "# Show the predictions\n",
    "predicted_next_result = predicted_next.select(\"prediction\", \"predicted_numbers_raw_string\").first()\n",
    "predicted_numbers_raw_string = predicted_next_result['predicted_numbers_raw_string'].split(\",\")\n",
    "prediction_info_hash = {\n",
    "    \"prediction\": predicted_next_result['prediction'],\n",
    "    \"g8\": [predicted_numbers_raw_string[0]],\n",
    "    \"g7\": [predicted_numbers_raw_string[1]],\n",
    "    \"g6\": [predicted_numbers_raw_string[2],\n",
    "           predicted_numbers_raw_string[3],\n",
    "           predicted_numbers_raw_string[4]],\n",
    "    \"g5\": [predicted_numbers_raw_string[5]],\n",
    "    \"g4\": [predicted_numbers_raw_string[6],\n",
    "           predicted_numbers_raw_string[7],\n",
    "           predicted_numbers_raw_string[8],\n",
    "           predicted_numbers_raw_string[9],\n",
    "           predicted_numbers_raw_string[10],\n",
    "           predicted_numbers_raw_string[11],\n",
    "           predicted_numbers_raw_string[12]],\n",
    "    \"g3\": [predicted_numbers_raw_string[13],\n",
    "           predicted_numbers_raw_string[14]],\n",
    "    \"g2\": [predicted_numbers_raw_string[15]],\n",
    "    \"g1\": [predicted_numbers_raw_string[16]],\n",
    "    \"db\": [predicted_numbers_raw_string[17]],\n",
    "}\n",
    "print(prediction_info_hash)"
   ],
   "id": "c2f6a4f0630998fe",
   "outputs": [
    {
     "name": "stdout",
     "output_type": "stream",
     "text": [
      "{'prediction': 302.0, 'g8': ['79'], 'g7': ['099'], 'g6': ['7163', '2021', '9892'], 'g5': ['3247'], 'g4': ['28467', '30091', '11069', '07695', '16123', '33210', '75216'], 'g3': ['56368', '29283'], 'g2': ['25713'], 'g1': ['83642'], 'db': ['871347']}\n"
     ]
    },
    {
     "name": "stderr",
     "output_type": "stream",
     "text": [
      "25/02/17 20:19:53 WARN DAGScheduler: Broadcasting large task binary with size 2040.5 KiB\n"
     ]
    }
   ],
   "execution_count": 804
  },
  {
   "metadata": {
    "ExecuteTime": {
     "end_time": "2025-02-17T13:19:54.412452Z",
     "start_time": "2025-02-17T13:19:53.452519Z"
    }
   },
   "cell_type": "code",
   "source": "spark.stop()",
   "id": "a7172330df68507a",
   "outputs": [],
   "execution_count": 805
  }
 ],
 "metadata": {
  "kernelspec": {
   "display_name": "Python 3",
   "language": "python",
   "name": "python3"
  },
  "language_info": {
   "codemirror_mode": {
    "name": "ipython",
    "version": 2
   },
   "file_extension": ".py",
   "mimetype": "text/x-python",
   "name": "python",
   "nbconvert_exporter": "python",
   "pygments_lexer": "ipython2",
   "version": "2.7.6"
  }
 },
 "nbformat": 4,
 "nbformat_minor": 5
}
