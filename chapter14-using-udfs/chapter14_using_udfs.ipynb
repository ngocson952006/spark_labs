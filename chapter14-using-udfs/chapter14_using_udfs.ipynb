{
 "cells": [
  {
   "cell_type": "code",
   "id": "initial_id",
   "metadata": {
    "collapsed": true,
    "ExecuteTime": {
     "end_time": "2025-01-02T13:58:48.633098Z",
     "start_time": "2025-01-02T13:58:48.626438Z"
    }
   },
   "source": [
    "import os\n",
    "\n",
    "import traceback\n",
    "\n",
    "from datetime import datetime, time\n",
    "from pyspark.sql import SparkSession, DataFrame\n",
    "from pyspark.sql.types import (StructType, StructField, IntegerType, StringType, BooleanType)\n",
    "from pyspark.sql import functions as F"
   ],
   "outputs": [],
   "execution_count": 38
  },
  {
   "metadata": {},
   "cell_type": "markdown",
   "source": "Define file paths",
   "id": "e0808407754c0183"
  },
  {
   "metadata": {
    "ExecuteTime": {
     "end_time": "2025-01-02T13:58:48.642129Z",
     "start_time": "2025-01-02T13:58:48.639995Z"
    }
   },
   "cell_type": "code",
   "source": [
    "current_dir = os.getcwd()\n",
    "file_name = '../csv_files/chapter14/south_dublin_lib.csv'\n",
    "file_path = os.path.join(current_dir, file_name)"
   ],
   "id": "b9107899cb3f49fb",
   "outputs": [],
   "execution_count": 39
  },
  {
   "metadata": {},
   "cell_type": "markdown",
   "source": "Custom functions",
   "id": "641dd131bc299f76"
  },
  {
   "metadata": {
    "ExecuteTime": {
     "end_time": "2025-01-02T13:58:48.660662Z",
     "start_time": "2025-01-02T13:58:48.655434Z"
    }
   },
   "cell_type": "code",
   "source": [
    "def create_timestamp_df(spark: SparkSession) -> DataFrame:\n",
    "      schema = StructType([\n",
    "            StructField('id', IntegerType(), False),\n",
    "            StructField('date_str', StringType(), False)\n",
    "      ])\n",
    "\n",
    "      rows = [\n",
    "            (1, \"2019-03-11 14:30:00\"),\n",
    "            (2, \"2019-04-27 16:00:00\"),\n",
    "            (3, \"2020-01-26 05:00:00\")\n",
    "      ]\n",
    "\n",
    "      df = spark.createDataFrame(rows, schema)\n",
    "      df = df.withColumn(\"date\", F.to_timestamp(F.col(\"date_str\"))).drop(\"date_str\")\n",
    "      return df\n",
    "\n",
    "def parse_time_range(time_range_str):\n",
    "      \"\"\"\n",
    "      Parses a time range string into meaningful components, handling both simple and complex cases.\n",
    "\n",
    "      For example:\n",
    "          Input: \"09:45-20:00\"\n",
    "          Output: (\"09:45-20:00\", None, None)\n",
    "\n",
    "          Input: \"10:00-17:00 (16:00 July and August) - closed for lunch 12:30-13:00\"\n",
    "          Output: (\"10:00-17:00\", \"(16:00 July and August)\", \"closed for lunch 12:30-13:00\")\n",
    "      \"\"\"\n",
    "      parts = time_range_str.split(\" - \")\n",
    "\n",
    "      # Ensure unpacking is controlled based on how many parts we actually have\n",
    "      main_hours = parts[0].strip() if len(parts) > 0 else None  # Always take the first part\n",
    "      additional_info = parts[1].strip() if len(parts) > 1 else None  # Optional second part\n",
    "      lunch_break = parts[2].strip() if len(parts) > 2 else None  # Optional third part\n",
    "\n",
    "      return main_hours, additional_info, lunch_break\n",
    "\n",
    "def udf_is_open(expected_timestamp,\n",
    "                opening_hours_monday,\n",
    "                opening_hours_tuesday,\n",
    "                opening_hours_wednesday,\n",
    "                opening_hours_thursday,\n",
    "                opening_hours_friday,\n",
    "                opening_hours_saturday,\n",
    "                opening_hours_sunday):\n",
    "      try:\n",
    "            weekday_switch = {\n",
    "                  \"Monday\": opening_hours_monday,\n",
    "                  \"Tuesday\": opening_hours_tuesday,\n",
    "                  \"Wednesday\": opening_hours_wednesday,\n",
    "                  \"Thursday\": opening_hours_thursday,\n",
    "                  \"Friday\": opening_hours_friday,\n",
    "                  \"Saturday\": opening_hours_saturday,\n",
    "                  \"Sunday\": opening_hours_sunday\n",
    "            }\n",
    "            weekday = expected_timestamp.strftime(\"%A\")\n",
    "            corresponding_opening_hours = weekday_switch.get(weekday)\n",
    "            if corresponding_opening_hours == \"Closed\":\n",
    "                  return False\n",
    "\n",
    "            main_hours, additional_info, lunch_break = parse_time_range(corresponding_opening_hours)\n",
    "\n",
    "            # For now, if we can not get main_hours, this means we will have no information of opening and close time then we assume that is \"Closed\"\n",
    "            if main_hours is None:\n",
    "                  return False\n",
    "\n",
    "            # Extract start time and end time\n",
    "            start_time_str, end_time_str = main_hours.split('-')\n",
    "            start_hour, start_minute = map(int, start_time_str.split(':'))\n",
    "            end_hour, end_minute = map(int, end_time_str.split(':'))\n",
    "\n",
    "            # Create time objects for comparison\n",
    "            start_time = time(start_hour, start_minute)\n",
    "            end_time = time(end_hour, end_minute)\n",
    "            expected_timestamp_time = expected_timestamp.time()\n",
    "\n",
    "            if start_time <= expected_timestamp_time <= end_time:\n",
    "                  return True\n",
    "            return False\n",
    "      except ValueError as e:\n",
    "            return False  # Or handle appropriately in your logic"
   ],
   "id": "234bb4d4e8a86b59",
   "outputs": [],
   "execution_count": 40
  },
  {
   "metadata": {},
   "cell_type": "markdown",
   "source": "",
   "id": "de6b19adce5a2e6f"
  },
  {
   "metadata": {},
   "cell_type": "markdown",
   "source": "Ingesting and Do Data Analysis",
   "id": "67266017ac4fe0fa"
  },
  {
   "metadata": {
    "ExecuteTime": {
     "end_time": "2025-01-02T13:58:48.946322Z",
     "start_time": "2025-01-02T13:58:48.666716Z"
    }
   },
   "cell_type": "code",
   "source": [
    "spark = SparkSession.builder.appName(\"Spark with UDF Analysis\").getOrCreate()\n",
    "drop_cols = [ 'Address1', 'Address2', 'Town', 'Postcode', 'County', 'Phone', 'Email', 'Website', 'Image', 'WGS84_Latitude', 'WGS84_Longitude']\n",
    "df = (spark.read.format(\"csv\")\n",
    "      .option(\"header\", True)\n",
    "      .option(\"inferSchema\", True)\n",
    "      .option(\"encoding\", \"cp1252\")\n",
    "      .load(file_path)).drop(*drop_cols)\n",
    "df.printSchema()\n",
    "\n",
    "timestamp_df = create_timestamp_df(spark)\n",
    "timestamp_df.printSchema()\n",
    "\n",
    "# Join 2 dfs for having data with dates\n",
    "final_df = df.crossJoin(timestamp_df).drop(\"id\")\n",
    "final_df.printSchema()"
   ],
   "id": "5af6741e77f5497b",
   "outputs": [
    {
     "name": "stderr",
     "output_type": "stream",
     "text": [
      "25/01/02 20:58:48 WARN Utils: Service 'SparkUI' could not bind on port 4040. Attempting port 4041.\n",
      "25/01/02 20:58:48 WARN Utils: Service 'SparkUI' could not bind on port 4041. Attempting port 4042.\n",
      "25/01/02 20:58:48 WARN Utils: Service 'SparkUI' could not bind on port 4042. Attempting port 4043.\n",
      "25/01/02 20:58:48 WARN Utils: Service 'SparkUI' could not bind on port 4043. Attempting port 4044.\n",
      "25/01/02 20:58:48 WARN Utils: Service 'SparkUI' could not bind on port 4044. Attempting port 4045.\n",
      "25/01/02 20:58:48 WARN Utils: Service 'SparkUI' could not bind on port 4045. Attempting port 4046.\n",
      "25/01/02 20:58:48 WARN Utils: Service 'SparkUI' could not bind on port 4046. Attempting port 4047.\n",
      "25/01/02 20:58:48 WARN Utils: Service 'SparkUI' could not bind on port 4047. Attempting port 4048.\n",
      "25/01/02 20:58:48 WARN Utils: Service 'SparkUI' could not bind on port 4048. Attempting port 4049.\n"
     ]
    },
    {
     "name": "stdout",
     "output_type": "stream",
     "text": [
      "root\n",
      " |-- Council_ID: string (nullable = true)\n",
      " |-- Administrative_Authority: string (nullable = true)\n",
      " |-- Name: string (nullable = true)\n",
      " |-- Opening_Hours_Monday: string (nullable = true)\n",
      " |-- Opening_Hours_Tuesday: string (nullable = true)\n",
      " |-- Opening_Hours_Wednesday: string (nullable = true)\n",
      " |-- Opening_Hours_Thursday: string (nullable = true)\n",
      " |-- Opening_Hours_Friday: string (nullable = true)\n",
      " |-- Opening_Hours_Saturday: string (nullable = true)\n",
      "\n",
      "root\n",
      " |-- id: integer (nullable = false)\n",
      " |-- date: timestamp (nullable = true)\n",
      "\n",
      "root\n",
      " |-- Council_ID: string (nullable = true)\n",
      " |-- Administrative_Authority: string (nullable = true)\n",
      " |-- Name: string (nullable = true)\n",
      " |-- Opening_Hours_Monday: string (nullable = true)\n",
      " |-- Opening_Hours_Tuesday: string (nullable = true)\n",
      " |-- Opening_Hours_Wednesday: string (nullable = true)\n",
      " |-- Opening_Hours_Thursday: string (nullable = true)\n",
      " |-- Opening_Hours_Friday: string (nullable = true)\n",
      " |-- Opening_Hours_Saturday: string (nullable = true)\n",
      " |-- date: timestamp (nullable = true)\n",
      "\n"
     ]
    }
   ],
   "execution_count": 41
  },
  {
   "metadata": {
    "ExecuteTime": {
     "end_time": "2025-01-02T13:58:49.628571Z",
     "start_time": "2025-01-02T13:58:49.023350Z"
    }
   },
   "cell_type": "code",
   "source": "final_df.show(5)",
   "id": "96d49b44703b1e4e",
   "outputs": [
    {
     "name": "stdout",
     "output_type": "stream",
     "text": [
      "+----------+------------------------+-------------------+--------------------+---------------------+-----------------------+----------------------+--------------------+----------------------+-------------------+\n",
      "|Council_ID|Administrative_Authority|               Name|Opening_Hours_Monday|Opening_Hours_Tuesday|Opening_Hours_Wednesday|Opening_Hours_Thursday|Opening_Hours_Friday|Opening_Hours_Saturday|               date|\n",
      "+----------+------------------------+-------------------+--------------------+---------------------+-----------------------+----------------------+--------------------+----------------------+-------------------+\n",
      "|       SD1|    South Dublin Coun...|     County Library|         09:45-20:00|          09:45-20:00|            09:45-20:00|           09:45-20:00|         09:45-16:30|           09:45-16:30|2019-03-11 14:30:00|\n",
      "|       SD2|    South Dublin Coun...|  Ballyroan Library|         09:45-20:00|          09:45-20:00|            09:45-20:00|           09:45-20:00|         09:45-16:30|           09:45-16:30|2019-03-11 14:30:00|\n",
      "|       SD3|    South Dublin Coun...|Castletymon Library|         09:45-17:00|          09:45-17:00|            09:45-17:00|           09:45-17:00|         09:45-16:30|           09:45-16:30|2019-03-11 14:30:00|\n",
      "|       SD4|    South Dublin Coun...| Clondalkin Library|         09:45-20:00|          09:45-20:00|            09:45-20:00|           09:45-20:00|         09:45-16:30|           09:45-16:30|2019-03-11 14:30:00|\n",
      "|       SD5|    South Dublin Coun...|      Lucan Library|         09:45-20:00|          09:45-20:00|            09:45-20:00|           09:45-20:00|         09:45-16:30|           09:45-16:30|2019-03-11 14:30:00|\n",
      "+----------+------------------------+-------------------+--------------------+---------------------+-----------------------+----------------------+--------------------+----------------------+-------------------+\n",
      "only showing top 5 rows\n",
      "\n"
     ]
    }
   ],
   "execution_count": 42
  },
  {
   "metadata": {},
   "cell_type": "markdown",
   "source": "Register UDF and work with UDF via dataframe API",
   "id": "d8fdc71eb5db739c"
  },
  {
   "metadata": {
    "ExecuteTime": {
     "end_time": "2025-01-02T13:58:50.315844Z",
     "start_time": "2025-01-02T13:58:49.642842Z"
    }
   },
   "cell_type": "code",
   "source": [
    "is_open = F.udf(udf_is_open, BooleanType())\n",
    "final_df = final_df.withColumn(\"is_opening\", is_open(F.col(\"date\"),\n",
    "                                                  F.col(\"Opening_Hours_Monday\"),\n",
    "                                                  F.col(\"Opening_Hours_Tuesday\"),\n",
    "                                                  F.col(\"Opening_Hours_Wednesday\"),\n",
    "                                                  F.col(\"Opening_Hours_Thursday\"),\n",
    "                                                  F.col(\"Opening_Hours_Friday\"),\n",
    "                                                  F.col(\"Opening_Hours_Saturday\"),\n",
    "                                                  F.lit(\"Closed\")))\n",
    "final_df.show()"
   ],
   "id": "b0e99fd210393e82",
   "outputs": [
    {
     "name": "stdout",
     "output_type": "stream",
     "text": [
      "+----------+------------------------+--------------------+--------------------+---------------------+-----------------------+----------------------+--------------------+----------------------+-------------------+----------+\n",
      "|Council_ID|Administrative_Authority|                Name|Opening_Hours_Monday|Opening_Hours_Tuesday|Opening_Hours_Wednesday|Opening_Hours_Thursday|Opening_Hours_Friday|Opening_Hours_Saturday|               date|is_opening|\n",
      "+----------+------------------------+--------------------+--------------------+---------------------+-----------------------+----------------------+--------------------+----------------------+-------------------+----------+\n",
      "|       SD1|    South Dublin Coun...|      County Library|         09:45-20:00|          09:45-20:00|            09:45-20:00|           09:45-20:00|         09:45-16:30|           09:45-16:30|2019-03-11 14:30:00|      true|\n",
      "|       SD2|    South Dublin Coun...|   Ballyroan Library|         09:45-20:00|          09:45-20:00|            09:45-20:00|           09:45-20:00|         09:45-16:30|           09:45-16:30|2019-03-11 14:30:00|      true|\n",
      "|       SD3|    South Dublin Coun...| Castletymon Library|         09:45-17:00|          09:45-17:00|            09:45-17:00|           09:45-17:00|         09:45-16:30|           09:45-16:30|2019-03-11 14:30:00|      true|\n",
      "|       SD4|    South Dublin Coun...|  Clondalkin Library|         09:45-20:00|          09:45-20:00|            09:45-20:00|           09:45-20:00|         09:45-16:30|           09:45-16:30|2019-03-11 14:30:00|      true|\n",
      "|       SD5|    South Dublin Coun...|       Lucan Library|         09:45-20:00|          09:45-20:00|            09:45-20:00|           09:45-20:00|         09:45-16:30|           09:45-16:30|2019-03-11 14:30:00|      true|\n",
      "|       SD6|    South Dublin Coun...| Whitechurch Library|14:00-17:00 and 1...| 14:00-17:00 and 1...|   09:45-13:00 and 1...|  14:00-17:00 and 1...|              Closed|                Closed|2019-03-11 14:30:00|     false|\n",
      "|       SD7|    South Dublin Coun...|The John Jennings...|10:00-17:00 (16:0...| 10:00-17:00 (16:0...|   10:00-17:00 (16:0...|  10:00-17:00 (16:0...|10:00-16:00 - clo...|                Closed|2019-03-11 14:30:00|     false|\n",
      "|       SD1|    South Dublin Coun...|      County Library|         09:45-20:00|          09:45-20:00|            09:45-20:00|           09:45-20:00|         09:45-16:30|           09:45-16:30|2019-04-27 16:00:00|      true|\n",
      "|       SD2|    South Dublin Coun...|   Ballyroan Library|         09:45-20:00|          09:45-20:00|            09:45-20:00|           09:45-20:00|         09:45-16:30|           09:45-16:30|2019-04-27 16:00:00|      true|\n",
      "|       SD3|    South Dublin Coun...| Castletymon Library|         09:45-17:00|          09:45-17:00|            09:45-17:00|           09:45-17:00|         09:45-16:30|           09:45-16:30|2019-04-27 16:00:00|      true|\n",
      "|       SD4|    South Dublin Coun...|  Clondalkin Library|         09:45-20:00|          09:45-20:00|            09:45-20:00|           09:45-20:00|         09:45-16:30|           09:45-16:30|2019-04-27 16:00:00|      true|\n",
      "|       SD5|    South Dublin Coun...|       Lucan Library|         09:45-20:00|          09:45-20:00|            09:45-20:00|           09:45-20:00|         09:45-16:30|           09:45-16:30|2019-04-27 16:00:00|      true|\n",
      "|       SD6|    South Dublin Coun...| Whitechurch Library|14:00-17:00 and 1...| 14:00-17:00 and 1...|   09:45-13:00 and 1...|  14:00-17:00 and 1...|              Closed|                Closed|2019-04-27 16:00:00|     false|\n",
      "|       SD7|    South Dublin Coun...|The John Jennings...|10:00-17:00 (16:0...| 10:00-17:00 (16:0...|   10:00-17:00 (16:0...|  10:00-17:00 (16:0...|10:00-16:00 - clo...|                Closed|2019-04-27 16:00:00|     false|\n",
      "|       SD1|    South Dublin Coun...|      County Library|         09:45-20:00|          09:45-20:00|            09:45-20:00|           09:45-20:00|         09:45-16:30|           09:45-16:30|2020-01-26 05:00:00|     false|\n",
      "|       SD2|    South Dublin Coun...|   Ballyroan Library|         09:45-20:00|          09:45-20:00|            09:45-20:00|           09:45-20:00|         09:45-16:30|           09:45-16:30|2020-01-26 05:00:00|     false|\n",
      "|       SD3|    South Dublin Coun...| Castletymon Library|         09:45-17:00|          09:45-17:00|            09:45-17:00|           09:45-17:00|         09:45-16:30|           09:45-16:30|2020-01-26 05:00:00|     false|\n",
      "|       SD4|    South Dublin Coun...|  Clondalkin Library|         09:45-20:00|          09:45-20:00|            09:45-20:00|           09:45-20:00|         09:45-16:30|           09:45-16:30|2020-01-26 05:00:00|     false|\n",
      "|       SD5|    South Dublin Coun...|       Lucan Library|         09:45-20:00|          09:45-20:00|            09:45-20:00|           09:45-20:00|         09:45-16:30|           09:45-16:30|2020-01-26 05:00:00|     false|\n",
      "|       SD6|    South Dublin Coun...| Whitechurch Library|14:00-17:00 and 1...| 14:00-17:00 and 1...|   09:45-13:00 and 1...|  14:00-17:00 and 1...|              Closed|                Closed|2020-01-26 05:00:00|     false|\n",
      "+----------+------------------------+--------------------+--------------------+---------------------+-----------------------+----------------------+--------------------+----------------------+-------------------+----------+\n",
      "only showing top 20 rows\n",
      "\n"
     ]
    }
   ],
   "execution_count": 43
  },
  {
   "metadata": {},
   "cell_type": "markdown",
   "source": "Register UDF via SQL",
   "id": "f294de03def47f60"
  },
  {
   "metadata": {
    "ExecuteTime": {
     "end_time": "2025-01-02T13:58:50.640140Z",
     "start_time": "2025-01-02T13:58:50.326704Z"
    }
   },
   "cell_type": "code",
   "source": [
    "spark.udf.register(\"is_open\", is_open)\n",
    "final_df.createOrReplaceTempView(\"final_df\")\n",
    "sql_query = \"\"\"\n",
    "      SELECT *, is_open(date, Opening_Hours_Monday, Opening_Hours_Tuesday, Opening_Hours_Wednesday, Opening_Hours_Thursday, Opening_Hours_Friday, Opening_Hours_Saturday, 'Closed') AS is_opening FROM final_df\n",
    "\"\"\"\n",
    "result = spark.sql(sql_query)\n",
    "result.show()"
   ],
   "id": "81dfa838c34cb49a",
   "outputs": [
    {
     "name": "stdout",
     "output_type": "stream",
     "text": [
      "+----------+------------------------+--------------------+--------------------+---------------------+-----------------------+----------------------+--------------------+----------------------+-------------------+----------+----------+\n",
      "|Council_ID|Administrative_Authority|                Name|Opening_Hours_Monday|Opening_Hours_Tuesday|Opening_Hours_Wednesday|Opening_Hours_Thursday|Opening_Hours_Friday|Opening_Hours_Saturday|               date|is_opening|is_opening|\n",
      "+----------+------------------------+--------------------+--------------------+---------------------+-----------------------+----------------------+--------------------+----------------------+-------------------+----------+----------+\n",
      "|       SD1|    South Dublin Coun...|      County Library|         09:45-20:00|          09:45-20:00|            09:45-20:00|           09:45-20:00|         09:45-16:30|           09:45-16:30|2019-03-11 14:30:00|      true|      true|\n",
      "|       SD2|    South Dublin Coun...|   Ballyroan Library|         09:45-20:00|          09:45-20:00|            09:45-20:00|           09:45-20:00|         09:45-16:30|           09:45-16:30|2019-03-11 14:30:00|      true|      true|\n",
      "|       SD3|    South Dublin Coun...| Castletymon Library|         09:45-17:00|          09:45-17:00|            09:45-17:00|           09:45-17:00|         09:45-16:30|           09:45-16:30|2019-03-11 14:30:00|      true|      true|\n",
      "|       SD4|    South Dublin Coun...|  Clondalkin Library|         09:45-20:00|          09:45-20:00|            09:45-20:00|           09:45-20:00|         09:45-16:30|           09:45-16:30|2019-03-11 14:30:00|      true|      true|\n",
      "|       SD5|    South Dublin Coun...|       Lucan Library|         09:45-20:00|          09:45-20:00|            09:45-20:00|           09:45-20:00|         09:45-16:30|           09:45-16:30|2019-03-11 14:30:00|      true|      true|\n",
      "|       SD6|    South Dublin Coun...| Whitechurch Library|14:00-17:00 and 1...| 14:00-17:00 and 1...|   09:45-13:00 and 1...|  14:00-17:00 and 1...|              Closed|                Closed|2019-03-11 14:30:00|     false|     false|\n",
      "|       SD7|    South Dublin Coun...|The John Jennings...|10:00-17:00 (16:0...| 10:00-17:00 (16:0...|   10:00-17:00 (16:0...|  10:00-17:00 (16:0...|10:00-16:00 - clo...|                Closed|2019-03-11 14:30:00|     false|     false|\n",
      "|       SD1|    South Dublin Coun...|      County Library|         09:45-20:00|          09:45-20:00|            09:45-20:00|           09:45-20:00|         09:45-16:30|           09:45-16:30|2019-04-27 16:00:00|      true|      true|\n",
      "|       SD2|    South Dublin Coun...|   Ballyroan Library|         09:45-20:00|          09:45-20:00|            09:45-20:00|           09:45-20:00|         09:45-16:30|           09:45-16:30|2019-04-27 16:00:00|      true|      true|\n",
      "|       SD3|    South Dublin Coun...| Castletymon Library|         09:45-17:00|          09:45-17:00|            09:45-17:00|           09:45-17:00|         09:45-16:30|           09:45-16:30|2019-04-27 16:00:00|      true|      true|\n",
      "|       SD4|    South Dublin Coun...|  Clondalkin Library|         09:45-20:00|          09:45-20:00|            09:45-20:00|           09:45-20:00|         09:45-16:30|           09:45-16:30|2019-04-27 16:00:00|      true|      true|\n",
      "|       SD5|    South Dublin Coun...|       Lucan Library|         09:45-20:00|          09:45-20:00|            09:45-20:00|           09:45-20:00|         09:45-16:30|           09:45-16:30|2019-04-27 16:00:00|      true|      true|\n",
      "|       SD6|    South Dublin Coun...| Whitechurch Library|14:00-17:00 and 1...| 14:00-17:00 and 1...|   09:45-13:00 and 1...|  14:00-17:00 and 1...|              Closed|                Closed|2019-04-27 16:00:00|     false|     false|\n",
      "|       SD7|    South Dublin Coun...|The John Jennings...|10:00-17:00 (16:0...| 10:00-17:00 (16:0...|   10:00-17:00 (16:0...|  10:00-17:00 (16:0...|10:00-16:00 - clo...|                Closed|2019-04-27 16:00:00|     false|     false|\n",
      "|       SD1|    South Dublin Coun...|      County Library|         09:45-20:00|          09:45-20:00|            09:45-20:00|           09:45-20:00|         09:45-16:30|           09:45-16:30|2020-01-26 05:00:00|     false|     false|\n",
      "|       SD2|    South Dublin Coun...|   Ballyroan Library|         09:45-20:00|          09:45-20:00|            09:45-20:00|           09:45-20:00|         09:45-16:30|           09:45-16:30|2020-01-26 05:00:00|     false|     false|\n",
      "|       SD3|    South Dublin Coun...| Castletymon Library|         09:45-17:00|          09:45-17:00|            09:45-17:00|           09:45-17:00|         09:45-16:30|           09:45-16:30|2020-01-26 05:00:00|     false|     false|\n",
      "|       SD4|    South Dublin Coun...|  Clondalkin Library|         09:45-20:00|          09:45-20:00|            09:45-20:00|           09:45-20:00|         09:45-16:30|           09:45-16:30|2020-01-26 05:00:00|     false|     false|\n",
      "|       SD5|    South Dublin Coun...|       Lucan Library|         09:45-20:00|          09:45-20:00|            09:45-20:00|           09:45-20:00|         09:45-16:30|           09:45-16:30|2020-01-26 05:00:00|     false|     false|\n",
      "|       SD6|    South Dublin Coun...| Whitechurch Library|14:00-17:00 and 1...| 14:00-17:00 and 1...|   09:45-13:00 and 1...|  14:00-17:00 and 1...|              Closed|                Closed|2020-01-26 05:00:00|     false|     false|\n",
      "+----------+------------------------+--------------------+--------------------+---------------------+-----------------------+----------------------+--------------------+----------------------+-------------------+----------+----------+\n",
      "only showing top 20 rows\n",
      "\n"
     ]
    }
   ],
   "execution_count": 44
  },
  {
   "metadata": {},
   "cell_type": "markdown",
   "source": "Stop Session",
   "id": "16fbda92b0f12df5"
  },
  {
   "metadata": {
    "ExecuteTime": {
     "end_time": "2025-01-02T13:58:51.643498Z",
     "start_time": "2025-01-02T13:58:50.645553Z"
    }
   },
   "cell_type": "code",
   "source": "spark.stop()",
   "id": "5c45b68b0b5c4be0",
   "outputs": [],
   "execution_count": 45
  }
 ],
 "metadata": {
  "kernelspec": {
   "display_name": "Python 3",
   "language": "python",
   "name": "python3"
  },
  "language_info": {
   "codemirror_mode": {
    "name": "ipython",
    "version": 2
   },
   "file_extension": ".py",
   "mimetype": "text/x-python",
   "name": "python",
   "nbconvert_exporter": "python",
   "pygments_lexer": "ipython2",
   "version": "2.7.6"
  }
 },
 "nbformat": 4,
 "nbformat_minor": 5
}
