{
 "cells": [
  {
   "cell_type": "code",
   "id": "94553a366a6974ab",
   "metadata": {
    "ExecuteTime": {
     "end_time": "2024-12-26T13:43:23.356708Z",
     "start_time": "2024-12-26T13:43:23.354002Z"
    }
   },
   "source": [
    "import os\n",
    "from pyspark.sql import SparkSession\n",
    "from pyspark.sql import functions as F"
   ],
   "outputs": [],
   "execution_count": 18
  },
  {
   "cell_type": "markdown",
   "id": "a9cb9d2797083265",
   "metadata": {},
   "source": [
    "Define file paths"
   ]
  },
  {
   "cell_type": "code",
   "id": "2f163215adb1eddc",
   "metadata": {
    "ExecuteTime": {
     "end_time": "2024-12-26T13:43:23.364309Z",
     "start_time": "2024-12-26T13:43:23.361872Z"
    }
   },
   "source": [
    "current_dir = os.getcwd()\n",
    "words_file_name = '../datasources/gutenberg_books/*.txt'\n",
    "output_file_name = '../output_files/english_count_words_analytic.csv'\n",
    "words_file_path = os.path.join(current_dir, words_file_name)"
   ],
   "outputs": [],
   "execution_count": 19
  },
  {
   "cell_type": "markdown",
   "id": "3245343c32663426",
   "metadata": {},
   "source": [
    "Start ingest and analyze data"
   ]
  },
  {
   "cell_type": "code",
   "id": "a6ed66c572a1866",
   "metadata": {
    "ExecuteTime": {
     "end_time": "2024-12-26T13:43:23.475580Z",
     "start_time": "2024-12-26T13:43:23.372685Z"
    }
   },
   "source": [
    "spark = SparkSession.builder.appName(\"English words analysis\").getOrCreate()\n",
    "spark.sparkContext.setLogLevel(\"WARN\")\n",
    "\n",
    "words_df = spark.read.text(words_file_path)\n",
    "words_df.printSchema()"
   ],
   "outputs": [
    {
     "name": "stdout",
     "output_type": "stream",
     "text": [
      "root\n",
      " |-- value: string (nullable = true)\n",
      "\n"
     ]
    },
    {
     "name": "stderr",
     "output_type": "stream",
     "text": [
      "24/12/26 20:43:23 WARN Utils: Service 'SparkUI' could not bind on port 4040. Attempting port 4041.\n",
      "24/12/26 20:43:23 WARN Utils: Service 'SparkUI' could not bind on port 4041. Attempting port 4042.\n",
      "24/12/26 20:43:23 WARN Utils: Service 'SparkUI' could not bind on port 4042. Attempting port 4043.\n",
      "24/12/26 20:43:23 WARN Utils: Service 'SparkUI' could not bind on port 4043. Attempting port 4044.\n",
      "24/12/26 20:43:23 WARN Utils: Service 'SparkUI' could not bind on port 4044. Attempting port 4045.\n",
      "24/12/26 20:43:23 WARN Utils: Service 'SparkUI' could not bind on port 4045. Attempting port 4046.\n",
      "24/12/26 20:43:23 WARN Utils: Service 'SparkUI' could not bind on port 4046. Attempting port 4047.\n",
      "24/12/26 20:43:23 WARN Utils: Service 'SparkUI' could not bind on port 4047. Attempting port 4048.\n",
      "24/12/26 20:43:23 WARN Utils: Service 'SparkUI' could not bind on port 4048. Attempting port 4049.\n"
     ]
    }
   ],
   "execution_count": 20
  },
  {
   "cell_type": "code",
   "id": "83680588cdd2d504",
   "metadata": {
    "ExecuteTime": {
     "end_time": "2024-12-26T13:43:23.555362Z",
     "start_time": "2024-12-26T13:43:23.488432Z"
    }
   },
   "source": [
    "words_df.show(10, truncate=False)"
   ],
   "outputs": [
    {
     "name": "stdout",
     "output_type": "stream",
     "text": [
      "+-----------------------------------------------------------------------+\n",
      "|value                                                                  |\n",
      "+-----------------------------------------------------------------------+\n",
      "|                                                                       |\n",
      "|The Project Gutenberg EBook of Moby Dick; or The Whale, by Herman      |\n",
      "|Melville                                                               |\n",
      "|                                                                       |\n",
      "|This eBook is for the use of anyone anywhere at no cost and with almost|\n",
      "|no restrictions whatsoever.  You may copy it, give it away or re-use it|\n",
      "|under the terms of the Project Gutenberg License included with this    |\n",
      "|eBook or online at www.gutenberg.org                                   |\n",
      "|                                                                       |\n",
      "|                                                                       |\n",
      "+-----------------------------------------------------------------------+\n",
      "only showing top 10 rows\n",
      "\n"
     ]
    }
   ],
   "execution_count": 21
  },
  {
   "cell_type": "markdown",
   "id": "e14c799ade673421",
   "metadata": {},
   "source": [
    "Tokenize the words and do analysis"
   ]
  },
  {
   "cell_type": "code",
   "id": "1a6c8fda180a7d86",
   "metadata": {
    "ExecuteTime": {
     "end_time": "2024-12-26T13:43:23.679930Z",
     "start_time": "2024-12-26T13:43:23.564148Z"
    }
   },
   "source": [
    "words_df = (words_df.select(F.split(F.col(\"value\"), \" \").alias(\"line\"))\n",
    "            .select(F.explode(\"line\").alias(\"word\"))\n",
    "            .select(F.lower(F.col(\"word\")).alias(\"word_lower\"))\n",
    "            .select(F.regexp_extract(F.col(\"word_lower\"), \"^[a-z]+\", 0).alias(\"final_word\")))\n",
    "words_df = words_df.filter(F.col(\"final_word\" ) != \"\")\n",
    "words_df.show(20, truncate=False)"
   ],
   "outputs": [
    {
     "name": "stdout",
     "output_type": "stream",
     "text": [
      "+----------+\n",
      "|final_word|\n",
      "+----------+\n",
      "|the       |\n",
      "|project   |\n",
      "|gutenberg |\n",
      "|ebook     |\n",
      "|of        |\n",
      "|moby      |\n",
      "|dick      |\n",
      "|or        |\n",
      "|the       |\n",
      "|whale     |\n",
      "|by        |\n",
      "|herman    |\n",
      "|melville  |\n",
      "|this      |\n",
      "|ebook     |\n",
      "|is        |\n",
      "|for       |\n",
      "|the       |\n",
      "|use       |\n",
      "|of        |\n",
      "+----------+\n",
      "only showing top 20 rows\n",
      "\n"
     ]
    }
   ],
   "execution_count": 22
  },
  {
   "cell_type": "markdown",
   "id": "af72f55aa665bc28",
   "metadata": {},
   "source": [
    "Do analytic"
   ]
  },
  {
   "cell_type": "code",
   "id": "55ea4b7c06229a32",
   "metadata": {
    "ExecuteTime": {
     "end_time": "2024-12-26T13:43:24.268423Z",
     "start_time": "2024-12-26T13:43:23.705581Z"
    }
   },
   "source": [
    "count_analytic = words_df.groupBy(F.col(\"final_word\")).count()\n",
    "count_analytic.orderBy(F.col(\"count\").desc()).show(20)"
   ],
   "outputs": [
    {
     "name": "stdout",
     "output_type": "stream",
     "text": [
      "+----------+-----+\n",
      "|final_word|count|\n",
      "+----------+-----+\n",
      "|       the|38895|\n",
      "|       and|23919|\n",
      "|        of|21199|\n",
      "|        to|20526|\n",
      "|         a|14464|\n",
      "|         i|13974|\n",
      "|        in|12777|\n",
      "|      that| 9623|\n",
      "|        it| 9099|\n",
      "|       was| 8920|\n",
      "|       her| 7923|\n",
      "|        my| 7385|\n",
      "|       his| 6642|\n",
      "|      with| 6575|\n",
      "|        he| 6444|\n",
      "|        as| 6439|\n",
      "|       you| 6297|\n",
      "|       had| 5718|\n",
      "|       she| 5617|\n",
      "|       for| 5425|\n",
      "+----------+-----+\n",
      "only showing top 20 rows\n",
      "\n"
     ]
    }
   ],
   "execution_count": 23
  },
  {
   "metadata": {},
   "cell_type": "markdown",
   "source": "Write analytic data into file",
   "id": "5d5f425b70f4a129"
  },
  {
   "metadata": {
    "ExecuteTime": {
     "end_time": "2024-12-26T13:43:24.699513Z",
     "start_time": "2024-12-26T13:43:24.273302Z"
    }
   },
   "cell_type": "code",
   "source": "count_analytic.coalesce(1).write.csv(os.path.join(current_dir, output_file_name), mode=\"overwrite\", header=True)",
   "id": "9a90ba2a27c9288d",
   "outputs": [],
   "execution_count": 24
  },
  {
   "metadata": {
    "ExecuteTime": {
     "end_time": "2024-12-26T13:43:24.953386Z",
     "start_time": "2024-12-26T13:43:24.705853Z"
    }
   },
   "cell_type": "code",
   "source": "spark.stop()",
   "id": "4fdbfe48a1679add",
   "outputs": [],
   "execution_count": 25
  }
 ],
 "metadata": {
  "kernelspec": {
   "display_name": "Python 3 (ipykernel)",
   "language": "python",
   "name": "python3"
  },
  "language_info": {
   "codemirror_mode": {
    "name": "ipython",
    "version": 3
   },
   "file_extension": ".py",
   "mimetype": "text/x-python",
   "name": "python",
   "nbconvert_exporter": "python",
   "pygments_lexer": "ipython3",
   "version": "3.11.6"
  }
 },
 "nbformat": 4,
 "nbformat_minor": 5
}
