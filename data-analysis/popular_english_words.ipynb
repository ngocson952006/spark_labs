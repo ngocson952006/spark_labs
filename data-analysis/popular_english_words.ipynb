{
 "cells": [
  {
   "cell_type": "code",
   "id": "94553a366a6974ab",
   "metadata": {
    "ExecuteTime": {
     "end_time": "2024-12-23T14:34:30.249566Z",
     "start_time": "2024-12-23T14:34:30.242931Z"
    }
   },
   "source": [
    "import os\n",
    "from pyspark.sql import SparkSession\n",
    "from pyspark.sql import functions as F"
   ],
   "outputs": [],
   "execution_count": 40
  },
  {
   "cell_type": "markdown",
   "id": "a9cb9d2797083265",
   "metadata": {},
   "source": [
    "Define file paths"
   ]
  },
  {
   "cell_type": "code",
   "id": "2f163215adb1eddc",
   "metadata": {
    "ExecuteTime": {
     "end_time": "2024-12-23T14:34:30.255720Z",
     "start_time": "2024-12-23T14:34:30.253470Z"
    }
   },
   "source": [
    "current_dir = os.getcwd()\n",
    "words_file_name = '../datasources/gutenberg_books/30254-0.txt'\n",
    "output_file_name = '../output_files/english_count_words_analytic.csv'\n",
    "words_file_path = os.path.join(current_dir, words_file_name)"
   ],
   "outputs": [],
   "execution_count": 41
  },
  {
   "cell_type": "markdown",
   "id": "3245343c32663426",
   "metadata": {},
   "source": [
    "Start ingest and analyze data"
   ]
  },
  {
   "cell_type": "code",
   "id": "a6ed66c572a1866",
   "metadata": {
    "ExecuteTime": {
     "end_time": "2024-12-23T14:34:30.301904Z",
     "start_time": "2024-12-23T14:34:30.268741Z"
    }
   },
   "source": [
    "spark = SparkSession.builder.appName(\"English words analysis\").getOrCreate()\n",
    "spark.sparkContext.setLogLevel(\"WARN\")\n",
    "\n",
    "words_df = spark.read.text(words_file_path)\n",
    "words_df.printSchema()"
   ],
   "outputs": [
    {
     "name": "stdout",
     "output_type": "stream",
     "text": [
      "root\n",
      " |-- value: string (nullable = true)\n",
      "\n"
     ]
    }
   ],
   "execution_count": 42
  },
  {
   "cell_type": "code",
   "id": "83680588cdd2d504",
   "metadata": {
    "ExecuteTime": {
     "end_time": "2024-12-23T14:34:30.363003Z",
     "start_time": "2024-12-23T14:34:30.306371Z"
    }
   },
   "source": [
    "words_df.show(10, truncate=False)"
   ],
   "outputs": [
    {
     "name": "stdout",
     "output_type": "stream",
     "text": [
      "+-----------------------------------------------------------------------+\n",
      "|value                                                                  |\n",
      "+-----------------------------------------------------------------------+\n",
      "|                                                                       |\n",
      "|The Project Gutenberg EBook of The Romance of Lust, by Anonymous       |\n",
      "|                                                                       |\n",
      "|This eBook is for the use of anyone anywhere at no cost and with almost|\n",
      "|no restrictions whatsoever.  You may copy it, give it away or re-use it|\n",
      "|under the terms of the Project Gutenberg License included with this    |\n",
      "|eBook or online at www.gutenberg.org                                   |\n",
      "|                                                                       |\n",
      "|Title: The Romance of Lust A classic Victorian erotic novel            |\n",
      "|                                                                       |\n",
      "+-----------------------------------------------------------------------+\n",
      "only showing top 10 rows\n",
      "\n"
     ]
    }
   ],
   "execution_count": 43
  },
  {
   "cell_type": "markdown",
   "id": "e14c799ade673421",
   "metadata": {},
   "source": [
    "Tokenize the words and do analysis"
   ]
  },
  {
   "cell_type": "code",
   "id": "1a6c8fda180a7d86",
   "metadata": {
    "ExecuteTime": {
     "end_time": "2024-12-23T14:34:30.479594Z",
     "start_time": "2024-12-23T14:34:30.402213Z"
    }
   },
   "source": [
    "words_df = (words_df.select(F.split(F.col(\"value\"), \" \").alias(\"line\"))\n",
    "            .select(F.explode(\"line\").alias(\"word\"))\n",
    "            .select(F.lower(F.col(\"word\")).alias(\"word_lower\"))\n",
    "            .select(F.regexp_extract(F.col(\"word_lower\"), \"^[a-z]+\", 0).alias(\"final_word\")))\n",
    "words_df = words_df.filter(F.col(\"final_word\" ) != \"\")\n",
    "words_df.show(20, truncate=False)"
   ],
   "outputs": [
    {
     "name": "stdout",
     "output_type": "stream",
     "text": [
      "+----------+\n",
      "|final_word|\n",
      "+----------+\n",
      "|the       |\n",
      "|project   |\n",
      "|gutenberg |\n",
      "|ebook     |\n",
      "|of        |\n",
      "|the       |\n",
      "|romance   |\n",
      "|of        |\n",
      "|lust      |\n",
      "|by        |\n",
      "|anonymous |\n",
      "|this      |\n",
      "|ebook     |\n",
      "|is        |\n",
      "|for       |\n",
      "|the       |\n",
      "|use       |\n",
      "|of        |\n",
      "|anyone    |\n",
      "|anywhere  |\n",
      "+----------+\n",
      "only showing top 20 rows\n",
      "\n"
     ]
    }
   ],
   "execution_count": 44
  },
  {
   "cell_type": "markdown",
   "id": "af72f55aa665bc28",
   "metadata": {},
   "source": [
    "Do analytic"
   ]
  },
  {
   "cell_type": "code",
   "id": "55ea4b7c06229a32",
   "metadata": {
    "ExecuteTime": {
     "end_time": "2024-12-23T14:34:30.737405Z",
     "start_time": "2024-12-23T14:34:30.486010Z"
    }
   },
   "source": [
    "count_analytic = words_df.groupBy(F.col(\"final_word\")).count()\n",
    "count_analytic.orderBy(F.col(\"count\").desc()).show(20)"
   ],
   "outputs": [
    {
     "name": "stdout",
     "output_type": "stream",
     "text": [
      "+----------+-----+\n",
      "|final_word|count|\n",
      "+----------+-----+\n",
      "|       the| 8105|\n",
      "|       and| 7186|\n",
      "|        to| 5860|\n",
      "|        of| 4637|\n",
      "|         i| 4505|\n",
      "|       her| 4347|\n",
      "|        my| 3399|\n",
      "|        in| 3282|\n",
      "|         a| 3018|\n",
      "|       was| 2662|\n",
      "|       she| 2640|\n",
      "|        it| 2465|\n",
      "|      that| 2143|\n",
      "|       had| 2079|\n",
      "|        me| 2051|\n",
      "|      with| 1907|\n",
      "|        as| 1904|\n",
      "|       you| 1614|\n",
      "|        we| 1359|\n",
      "|       for| 1339|\n",
      "+----------+-----+\n",
      "only showing top 20 rows\n",
      "\n"
     ]
    }
   ],
   "execution_count": 45
  },
  {
   "metadata": {},
   "cell_type": "markdown",
   "source": "Write analytic data into file",
   "id": "5d5f425b70f4a129"
  },
  {
   "metadata": {
    "ExecuteTime": {
     "end_time": "2024-12-23T14:34:31.012985Z",
     "start_time": "2024-12-23T14:34:30.754749Z"
    }
   },
   "cell_type": "code",
   "source": "count_analytic.coalesce(1).write.csv(os.path.join(current_dir, output_file_name), mode=\"overwrite\", header=True)",
   "id": "9a90ba2a27c9288d",
   "outputs": [],
   "execution_count": 46
  }
 ],
 "metadata": {
  "kernelspec": {
   "display_name": "Python 3 (ipykernel)",
   "language": "python",
   "name": "python3"
  },
  "language_info": {
   "codemirror_mode": {
    "name": "ipython",
    "version": 3
   },
   "file_extension": ".py",
   "mimetype": "text/x-python",
   "name": "python",
   "nbconvert_exporter": "python",
   "pygments_lexer": "ipython3",
   "version": "3.11.6"
  }
 },
 "nbformat": 4,
 "nbformat_minor": 5
}
