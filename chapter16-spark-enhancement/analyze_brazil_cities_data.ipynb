{
 "cells": [
  {
   "cell_type": "code",
   "execution_count": null,
   "id": "initial_id",
   "metadata": {
    "collapsed": true
   },
   "outputs": [],
   "source": [
    "import os\n",
    "\n",
    "import traceback\n",
    "import time\n",
    "import random\n",
    "\n",
    "from duckdb.duckdb.typing import TIME_TZ\n",
    "from pyspark.sql import SparkSession, DataFrame\n",
    "from pyspark.sql.types import (StructType, StructField, IntegerType, StringType, BooleanType)\n",
    "from pyspark.sql import functions as F"
   ]
  }
 ],
 "metadata": {
  "kernelspec": {
   "display_name": "Python 3",
   "language": "python",
   "name": "python3"
  },
  "language_info": {
   "codemirror_mode": {
    "name": "ipython",
    "version": 2
   },
   "file_extension": ".py",
   "mimetype": "text/x-python",
   "name": "python",
   "nbconvert_exporter": "python",
   "pygments_lexer": "ipython2",
   "version": "2.7.6"
  }
 },
 "nbformat": 4,
 "nbformat_minor": 5
}
