{
 "cells": [
  {
   "cell_type": "code",
   "id": "initial_id",
   "metadata": {
    "collapsed": true,
    "ExecuteTime": {
     "end_time": "2025-02-16T13:07:07.435714Z",
     "start_time": "2025-02-16T13:07:07.247904Z"
    }
   },
   "source": [
    "import os\n",
    "\n",
    "import traceback\n",
    "import time\n",
    "import random\n",
    "\n",
    "from duckdb.duckdb.typing import TIME_TZ\n",
    "from pyspark.sql import SparkSession, DataFrame\n",
    "from pyspark.sql.types import (StructType, StructField, IntegerType, StringType, BooleanType)\n",
    "from pyspark.sql import functions as F"
   ],
   "outputs": [],
   "execution_count": 1
  },
  {
   "metadata": {},
   "cell_type": "markdown",
   "source": "Notebook about create a sample date frame and create a comparison with and without cache, endpoint",
   "id": "1f401e7dd566890f"
  },
  {
   "metadata": {
    "ExecuteTime": {
     "end_time": "2025-02-16T13:07:07.444205Z",
     "start_time": "2025-02-16T13:07:07.441279Z"
    }
   },
   "cell_type": "code",
   "source": [
    "def create_sample_df(spark_session, records_count, mode):\n",
    "    schema = StructType([StructField('author', StringType(), False),\n",
    "                         StructField('title', StringType(), False),\n",
    "                         StructField('rating', IntegerType(), False),\n",
    "                         StructField('year', IntegerType(), False)])\n",
    "    data = [(\"Author\" + str(i % 100), \"Title\" + str(i % 200), random.randint(1,5), random.randint(1995,1997)) for i in range(records_count)]\n",
    "    return spark_session.createDataFrame(data, schema)\n",
    "\n",
    "def process_df_with_mode(df, mode):\n",
    "    processed_df = df\n",
    "    if mode == \"USE_CACHE\":\n",
    "        processed_df = df.cache()\n",
    "    elif mode == \"USE_CHECKPOINT\":\n",
    "        processed_df = df.checkpoint()\n",
    "    return processed_df"
   ],
   "id": "6163be85914c9fc",
   "outputs": [],
   "execution_count": 2
  },
  {
   "metadata": {
    "ExecuteTime": {
     "end_time": "2025-02-16T13:07:10.175087Z",
     "start_time": "2025-02-16T13:07:07.448397Z"
    }
   },
   "cell_type": "code",
   "source": [
    "spark = SparkSession.builder.appName(\"Spark Cache/Checkpoint Sampler\").getOrCreate()\n",
    "spark.sparkContext.setCheckpointDir(\"/tmp\")\n",
    "mode = \"USE_CHECKPOINT\"\n",
    "df = create_sample_df(spark, 10000, mode)"
   ],
   "id": "901a78c88a9f3940",
   "outputs": [
    {
     "name": "stderr",
     "output_type": "stream",
     "text": [
      "25/02/16 20:07:08 WARN Utils: Your hostname, MacBook-Air-cua-Ngoc-2.local resolves to a loopback address: 127.0.0.1; using 192.168.1.7 instead (on interface en0)\n",
      "25/02/16 20:07:08 WARN Utils: Set SPARK_LOCAL_IP if you need to bind to another address\n",
      "Setting default log level to \"WARN\".\n",
      "To adjust logging level use sc.setLogLevel(newLevel). For SparkR, use setLogLevel(newLevel).\n",
      "25/02/16 20:07:08 WARN NativeCodeLoader: Unable to load native-hadoop library for your platform... using builtin-java classes where applicable\n"
     ]
    }
   ],
   "execution_count": 3
  },
  {
   "metadata": {},
   "cell_type": "markdown",
   "source": "Sampling with time metrics",
   "id": "cef70238fbdd0644"
  },
  {
   "metadata": {
    "ExecuteTime": {
     "end_time": "2025-02-16T13:07:12.832285Z",
     "start_time": "2025-02-16T13:07:10.249567Z"
    }
   },
   "cell_type": "code",
   "source": [
    "print(\"Check with mode: \" + str(mode))\n",
    "t0 = time.process_time()\n",
    "filter_df = df.filter(\"rating >= 5\")\n",
    "filter_df.show()\n",
    "\n",
    "# Start processing dataframe bases on mode\n",
    "filter_df = process_df_with_mode(filter_df, mode)\n",
    "\n",
    "# Start do analysis\n",
    "book_count_by_author = filter_df.groupBy(F.col(\"author\")).count()\n",
    "book_count_by_author.show()\n",
    "\n",
    "book_count_by_year = filter_df.groupBy(F.col(\"year\")).count()\n",
    "book_count_by_year.show()\n",
    "\n",
    "t1 = time.process_time()\n",
    "elapsed_time = t1 - t0\n",
    "print(f\"Elapsed time: {elapsed_time:.5f} seconds\")"
   ],
   "id": "7a7ab0488ee3df9f",
   "outputs": [
    {
     "name": "stdout",
     "output_type": "stream",
     "text": [
      "Check with mode: USE_CHECKPOINT\n"
     ]
    },
    {
     "name": "stderr",
     "output_type": "stream",
     "text": [
      "                                                                                \r"
     ]
    },
    {
     "name": "stdout",
     "output_type": "stream",
     "text": [
      "+--------+-------+------+----+\n",
      "|  author|  title|rating|year|\n",
      "+--------+-------+------+----+\n",
      "| Author1| Title1|     5|1995|\n",
      "| Author2| Title2|     5|1996|\n",
      "| Author5| Title5|     5|1996|\n",
      "| Author6| Title6|     5|1995|\n",
      "|Author31|Title31|     5|1996|\n",
      "|Author37|Title37|     5|1995|\n",
      "|Author38|Title38|     5|1997|\n",
      "|Author46|Title46|     5|1995|\n",
      "|Author49|Title49|     5|1997|\n",
      "|Author56|Title56|     5|1997|\n",
      "|Author66|Title66|     5|1995|\n",
      "|Author68|Title68|     5|1996|\n",
      "|Author84|Title84|     5|1996|\n",
      "|Author85|Title85|     5|1996|\n",
      "|Author86|Title86|     5|1995|\n",
      "|Author87|Title87|     5|1997|\n",
      "|Author92|Title92|     5|1997|\n",
      "|Author94|Title94|     5|1996|\n",
      "|Author96|Title96|     5|1997|\n",
      "|Author97|Title97|     5|1997|\n",
      "+--------+-------+------+----+\n",
      "only showing top 20 rows\n",
      "\n",
      "+--------+-----+\n",
      "|  author|count|\n",
      "+--------+-----+\n",
      "|Author41|   18|\n",
      "|Author58|   18|\n",
      "|Author46|   22|\n",
      "|Author31|   21|\n",
      "|Author68|   20|\n",
      "|Author47|   22|\n",
      "| Author6|   15|\n",
      "|Author37|   19|\n",
      "|Author93|   21|\n",
      "|Author28|   20|\n",
      "| Author0|   15|\n",
      "|Author48|   24|\n",
      "|Author77|   19|\n",
      "|Author23|   18|\n",
      "|Author16|   19|\n",
      "|Author57|   22|\n",
      "|Author50|   22|\n",
      "|Author97|   26|\n",
      "|Author86|   20|\n",
      "|Author96|   21|\n",
      "+--------+-----+\n",
      "only showing top 20 rows\n",
      "\n",
      "+----+-----+\n",
      "|year|count|\n",
      "+----+-----+\n",
      "|1997|  656|\n",
      "|1996|  664|\n",
      "|1995|  667|\n",
      "+----+-----+\n",
      "\n",
      "Elapsed time: 0.00902 seconds\n"
     ]
    }
   ],
   "execution_count": 4
  },
  {
   "metadata": {
    "ExecuteTime": {
     "end_time": "2025-02-16T13:07:13.249947Z",
     "start_time": "2025-02-16T13:07:12.851292Z"
    }
   },
   "cell_type": "code",
   "source": "spark.stop()",
   "id": "d4bd215ddd0998b0",
   "outputs": [],
   "execution_count": 5
  }
 ],
 "metadata": {
  "kernelspec": {
   "display_name": "Python 3",
   "language": "python",
   "name": "python3"
  },
  "language_info": {
   "codemirror_mode": {
    "name": "ipython",
    "version": 2
   },
   "file_extension": ".py",
   "mimetype": "text/x-python",
   "name": "python",
   "nbconvert_exporter": "python",
   "pygments_lexer": "ipython2",
   "version": "2.7.6"
  }
 },
 "nbformat": 4,
 "nbformat_minor": 5
}
