{
 "cells": [
  {
   "cell_type": "code",
   "id": "initial_id",
   "metadata": {
    "collapsed": true,
    "ExecuteTime": {
     "end_time": "2025-02-10T13:29:26.426199Z",
     "start_time": "2025-02-10T13:29:26.420723Z"
    }
   },
   "source": [
    "import os\n",
    "\n",
    "import traceback\n",
    "import time\n",
    "import random\n",
    "\n",
    "from duckdb.duckdb.typing import TIME_TZ\n",
    "from pyspark.sql import SparkSession, DataFrame\n",
    "from pyspark.sql.types import (StructType, StructField, IntegerType, StringType, BooleanType)\n",
    "from pyspark.sql import functions as F"
   ],
   "outputs": [],
   "execution_count": 50
  },
  {
   "metadata": {},
   "cell_type": "markdown",
   "source": "Notebook about create a sample date frame and create a comparison with and without cache, endpoint",
   "id": "1f401e7dd566890f"
  },
  {
   "metadata": {
    "ExecuteTime": {
     "end_time": "2025-02-10T13:29:26.436196Z",
     "start_time": "2025-02-10T13:29:26.431708Z"
    }
   },
   "cell_type": "code",
   "source": [
    "def create_sample_df(spark_session, records_count, mode):\n",
    "    schema = StructType([StructField('author', StringType(), False),\n",
    "                         StructField('title', StringType(), False),\n",
    "                         StructField('rating', IntegerType(), False),\n",
    "                         StructField('year', IntegerType(), False)])\n",
    "    data = [(\"Author\" + str(i % 100), \"Title\" + str(i % 200), random.randint(1,5), random.randint(1995,1997)) for i in range(records_count)]\n",
    "    return spark_session.createDataFrame(data, schema)\n",
    "\n",
    "def process_df_with_mode(df, mode):\n",
    "    processed_df = df\n",
    "    if mode == \"USE_CACHE\":\n",
    "        processed_df = df.cache()\n",
    "    elif mode == \"USE_CHECKPOINT\":\n",
    "        processed_df =  df.checkpoint()\n",
    "    return processed_df"
   ],
   "id": "6163be85914c9fc",
   "outputs": [],
   "execution_count": 51
  },
  {
   "metadata": {
    "ExecuteTime": {
     "end_time": "2025-02-10T13:29:27.550259Z",
     "start_time": "2025-02-10T13:29:26.443764Z"
    }
   },
   "cell_type": "code",
   "source": [
    "spark = SparkSession.builder.appName(\"Spark Cache/Checkpoint Sampler\").getOrCreate()\n",
    "spark.sparkContext.setCheckpointDir(\"/tmp\")\n",
    "mode = \"USE_CACHE\"\n",
    "df = create_sample_df(spark, 500000, mode)"
   ],
   "id": "901a78c88a9f3940",
   "outputs": [],
   "execution_count": 52
  },
  {
   "metadata": {},
   "cell_type": "markdown",
   "source": "Sampling with time metrics",
   "id": "cef70238fbdd0644"
  },
  {
   "metadata": {
    "ExecuteTime": {
     "end_time": "2025-02-10T13:29:28.792089Z",
     "start_time": "2025-02-10T13:29:27.556540Z"
    }
   },
   "cell_type": "code",
   "source": [
    "print(\"Check with mode: \" + str(mode))\n",
    "t0 = time.process_time()\n",
    "filter_df = df.filter(\"rating >= 5\")\n",
    "filter_df.show()\n",
    "\n",
    "# Start processing dataframe bases on mode\n",
    "filter_df = process_df_with_mode(filter_df, mode)\n",
    "\n",
    "# Start do analysis\n",
    "book_count_by_author = filter_df.groupBy(F.col(\"author\")).count()\n",
    "book_count_by_author.show()\n",
    "\n",
    "book_count_by_year = filter_df.groupBy(F.col(\"year\")).count()\n",
    "book_count_by_year.show()\n",
    "\n",
    "t1 = time.process_time()\n",
    "elapsed_time = t1 - t0\n",
    "print(f\"Elapsed time: {elapsed_time:.5f} seconds\")"
   ],
   "id": "7a7ab0488ee3df9f",
   "outputs": [
    {
     "name": "stdout",
     "output_type": "stream",
     "text": [
      "Check with mode: USE_CACHE\n"
     ]
    },
    {
     "name": "stderr",
     "output_type": "stream",
     "text": [
      "25/02/10 20:29:27 WARN TaskSetManager: Stage 0 contains a task of very large size (1800 KiB). The maximum recommended task size is 1000 KiB.\n"
     ]
    },
    {
     "name": "stdout",
     "output_type": "stream",
     "text": [
      "+--------+-------+------+----+\n",
      "|  author|  title|rating|year|\n",
      "+--------+-------+------+----+\n",
      "| Author3| Title3|     5|1997|\n",
      "| Author7| Title7|     5|1997|\n",
      "| Author8| Title8|     5|1995|\n",
      "| Author9| Title9|     5|1995|\n",
      "|Author12|Title12|     5|1997|\n",
      "|Author21|Title21|     5|1996|\n",
      "|Author22|Title22|     5|1997|\n",
      "|Author24|Title24|     5|1996|\n",
      "|Author26|Title26|     5|1997|\n",
      "|Author31|Title31|     5|1995|\n",
      "|Author33|Title33|     5|1996|\n",
      "|Author39|Title39|     5|1997|\n",
      "|Author45|Title45|     5|1996|\n",
      "|Author46|Title46|     5|1997|\n",
      "|Author50|Title50|     5|1996|\n",
      "|Author55|Title55|     5|1996|\n",
      "|Author66|Title66|     5|1997|\n",
      "|Author77|Title77|     5|1995|\n",
      "|Author87|Title87|     5|1996|\n",
      "|Author90|Title90|     5|1996|\n",
      "+--------+-------+------+----+\n",
      "only showing top 20 rows\n",
      "\n"
     ]
    },
    {
     "name": "stderr",
     "output_type": "stream",
     "text": [
      "25/02/10 20:29:28 WARN TaskSetManager: Stage 1 contains a task of very large size (1800 KiB). The maximum recommended task size is 1000 KiB.\n",
      "25/02/10 20:29:28 WARN TaskSetManager: Stage 2 contains a task of very large size (1800 KiB). The maximum recommended task size is 1000 KiB.\n",
      "25/02/10 20:29:28 WARN TaskSetManager: Stage 5 contains a task of very large size (1800 KiB). The maximum recommended task size is 1000 KiB.\n"
     ]
    },
    {
     "name": "stdout",
     "output_type": "stream",
     "text": [
      "+--------+-----+\n",
      "|  author|count|\n",
      "+--------+-----+\n",
      "|Author41|  964|\n",
      "|Author58| 1052|\n",
      "|Author46|  990|\n",
      "|Author45|  973|\n",
      "|Author39|  961|\n",
      "|Author31| 1038|\n",
      "|Author68| 1030|\n",
      "|Author47| 1036|\n",
      "| Author6| 1014|\n",
      "|Author26| 1038|\n",
      "|Author37| 1005|\n",
      "|Author93|  980|\n",
      "|Author73| 1000|\n",
      "| Author0|  997|\n",
      "|Author28|  988|\n",
      "|Author48|  999|\n",
      "|Author77| 1023|\n",
      "|Author23| 1022|\n",
      "|Author16| 1032|\n",
      "|Author57|  975|\n",
      "+--------+-----+\n",
      "only showing top 20 rows\n",
      "\n",
      "+----+-----+\n",
      "|year|count|\n",
      "+----+-----+\n",
      "|1997|33326|\n",
      "|1996|33332|\n",
      "|1995|33448|\n",
      "+----+-----+\n",
      "\n",
      "Elapsed time: 0.01085 seconds\n"
     ]
    }
   ],
   "execution_count": 53
  },
  {
   "metadata": {
    "ExecuteTime": {
     "end_time": "2025-02-10T13:29:29.799526Z",
     "start_time": "2025-02-10T13:29:28.804576Z"
    }
   },
   "cell_type": "code",
   "source": "spark.stop()",
   "id": "d4bd215ddd0998b0",
   "outputs": [],
   "execution_count": 54
  }
 ],
 "metadata": {
  "kernelspec": {
   "display_name": "Python 3",
   "language": "python",
   "name": "python3"
  },
  "language_info": {
   "codemirror_mode": {
    "name": "ipython",
    "version": 2
   },
   "file_extension": ".py",
   "mimetype": "text/x-python",
   "name": "python",
   "nbconvert_exporter": "python",
   "pygments_lexer": "ipython2",
   "version": "2.7.6"
  }
 },
 "nbformat": 4,
 "nbformat_minor": 5
}
