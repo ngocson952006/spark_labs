{
 "cells": [
  {
   "cell_type": "code",
   "id": "initial_id",
   "metadata": {
    "collapsed": true,
    "ExecuteTime": {
     "end_time": "2024-12-15T10:54:15.850513Z",
     "start_time": "2024-12-15T10:54:15.806365Z"
    }
   },
   "source": [
    "import os\n",
    "from pyspark.sql import SparkSession\n",
    "from pyspark.sql.types import (StructType, StructField, StringType, DoubleType)\n",
    "from pyspark.sql import functions as F"
   ],
   "outputs": [],
   "execution_count": 1
  },
  {
   "metadata": {},
   "cell_type": "markdown",
   "source": "Define file path\n",
   "id": "8b6e31cb8863465a"
  },
  {
   "metadata": {
    "ExecuteTime": {
     "end_time": "2024-12-15T10:54:15.856253Z",
     "start_time": "2024-12-15T10:54:15.853888Z"
    }
   },
   "cell_type": "code",
   "source": [
    "current_dir = os.getcwd()\n",
    "csv_data_file_name = \"../csv_files/chapter12/data.csv\"\n",
    "csv_data_file_path = os.path.join(current_dir, csv_data_file_name)"
   ],
   "id": "4c7b3b784d7dec29",
   "outputs": [],
   "execution_count": 2
  },
  {
   "metadata": {},
   "cell_type": "markdown",
   "source": [
    "Start to read csv files via Spark\n",
    "\n"
   ],
   "id": "33be235b4297d076"
  },
  {
   "metadata": {
    "ExecuteTime": {
     "end_time": "2024-12-15T10:54:19.946815Z",
     "start_time": "2024-12-15T10:54:15.925520Z"
    }
   },
   "cell_type": "code",
   "source": [
    "spark_session = (SparkSession.builder.appName(\"Data Transformation Example\").getOrCreate())\n",
    "df = spark_session.read.csv(path=csv_data_file_path, header=True, inferSchema=True)"
   ],
   "id": "af437683bc45b54a",
   "outputs": [
    {
     "name": "stderr",
     "output_type": "stream",
     "text": [
      "24/12/15 17:54:16 WARN Utils: Your hostname, MacBook-Air-cua-Ngoc-2.local resolves to a loopback address: 127.0.0.1; using 192.168.1.10 instead (on interface en0)\n",
      "24/12/15 17:54:16 WARN Utils: Set SPARK_LOCAL_IP if you need to bind to another address\n",
      "Setting default log level to \"WARN\".\n",
      "To adjust logging level use sc.setLogLevel(newLevel). For SparkR, use setLogLevel(newLevel).\n",
      "24/12/15 17:54:16 WARN NativeCodeLoader: Unable to load native-hadoop library for your platform... using builtin-java classes where applicable\n",
      "24/12/15 17:54:17 WARN Utils: Service 'SparkUI' could not bind on port 4040. Attempting port 4041.\n"
     ]
    }
   ],
   "execution_count": 3
  },
  {
   "metadata": {
    "ExecuteTime": {
     "end_time": "2024-12-15T10:54:19.965689Z",
     "start_time": "2024-12-15T10:54:19.961747Z"
    }
   },
   "cell_type": "code",
   "source": "df.printSchema()",
   "id": "35f4d035296e2050",
   "outputs": [
    {
     "name": "stdout",
     "output_type": "stream",
     "text": [
      "root\n",
      " |-- GEO.id: string (nullable = true)\n",
      " |-- GEO.id2: integer (nullable = true)\n",
      " |-- GEO.display-label: string (nullable = true)\n",
      " |-- rescen42010: integer (nullable = true)\n",
      " |-- resbase42010: integer (nullable = true)\n",
      " |-- respop72010: integer (nullable = true)\n",
      " |-- respop72011: integer (nullable = true)\n",
      " |-- respop72012: integer (nullable = true)\n",
      " |-- respop72013: integer (nullable = true)\n",
      " |-- respop72014: integer (nullable = true)\n",
      " |-- respop72015: integer (nullable = true)\n",
      " |-- respop72016: integer (nullable = true)\n",
      " |-- respop72017: integer (nullable = true)\n",
      "\n"
     ]
    }
   ],
   "execution_count": 4
  },
  {
   "metadata": {
    "ExecuteTime": {
     "end_time": "2024-12-15T10:54:20.167666Z",
     "start_time": "2024-12-15T10:54:20.006593Z"
    }
   },
   "cell_type": "code",
   "source": "df.show()",
   "id": "709d15fc5593154d",
   "outputs": [
    {
     "name": "stdout",
     "output_type": "stream",
     "text": [
      "+--------------+-------+--------------------+-----------+------------+-----------+-----------+-----------+-----------+-----------+-----------+-----------+-----------+\n",
      "|        GEO.id|GEO.id2|   GEO.display-label|rescen42010|resbase42010|respop72010|respop72011|respop72012|respop72013|respop72014|respop72015|respop72016|respop72017|\n",
      "+--------------+-------+--------------------+-----------+------------+-----------+-----------+-----------+-----------+-----------+-----------+-----------+-----------+\n",
      "|0500000US01001|   1001|Autauga County, A...|      54571|       54571|      54750|      55199|      54927|      54695|      54864|      54838|      55278|      55504|\n",
      "|0500000US01003|   1003|Baldwin County, A...|     182265|      182265|     183110|     186534|     190048|     194736|     199064|     202863|     207509|     212628|\n",
      "|0500000US01005|   1005|Barbour County, A...|      27457|       27457|      27332|      27351|      27175|      26947|      26749|      26264|      25774|      25270|\n",
      "|0500000US01007|   1007|Bibb County, Alabama|      22915|       22919|      22872|      22745|      22658|      22503|      22533|      22561|      22633|      22668|\n",
      "|0500000US01009|   1009|Blount County, Al...|      57322|       57324|      57381|      57562|      57595|      57623|      57546|      57590|      57562|      58013|\n",
      "|0500000US01011|   1011|Bullock County, A...|      10914|       10911|      10880|      10675|      10612|      10549|      10673|      10419|      10441|      10309|\n",
      "|0500000US01013|   1013|Butler County, Al...|      20947|       20946|      20944|      20880|      20688|      20372|      20327|      20141|      19965|      19825|\n",
      "|0500000US01015|   1015|Calhoun County, A...|     118572|      118586|     118466|     117785|     117219|     116482|     115941|     115505|     114980|     114728|\n",
      "|0500000US01017|   1017|Chambers County, ...|      34215|       34170|      34122|      34031|      34092|      34122|      33948|      33968|      33717|      33713|\n",
      "|0500000US01019|   1019|Cherokee County, ...|      25989|       25988|      25973|      25993|      25958|      26014|      25897|      25741|      25766|      25857|\n",
      "|0500000US01021|   1021|Chilton County, A...|      43643|       43631|      43661|      43688|      43601|      43645|      43779|      43706|      43830|      44067|\n",
      "|0500000US01023|   1023|Choctaw County, A...|      13859|       13858|      13849|      13607|      13561|      13396|      13318|      13231|      13050|      12945|\n",
      "|0500000US01025|   1025|Clarke County, Al...|      25833|       25833|      25765|      25582|      25152|      25118|      24865|      24708|      24350|      24083|\n",
      "|0500000US01027|   1027|Clay County, Alabama|      13932|       13932|      13900|      13688|      13434|      13406|      13440|      13414|      13410|      13367|\n",
      "|0500000US01029|   1029|Cleburne County, ...|      14972|       14972|      15004|      14928|      14889|      14976|      15026|      14922|      14873|      14900|\n",
      "|0500000US01031|   1031|Coffee County, Al...|      49948|       49948|      50203|      50434|      51113|      50647|      50652|      50974|      51217|      51874|\n",
      "|0500000US01033|   1033|Colbert County, A...|      54428|       54428|      54525|      54534|      54569|      54528|      54461|      54358|      54327|      54500|\n",
      "|0500000US01035|   1035|Conecuh County, A...|      13228|       13228|      13229|      13187|      13041|      12908|      12677|      12678|      12515|      12469|\n",
      "|0500000US01037|   1037|Coosa County, Ala...|      11539|       11758|      11782|      11484|      11347|      11253|      11034|      10923|      10809|      10754|\n",
      "|0500000US01039|   1039|Covington County,...|      37765|       37765|      37811|      38017|      37803|      37811|      37755|      37550|      37386|      37092|\n",
      "+--------------+-------+--------------------+-----------+------------+-----------+-----------+-----------+-----------+-----------+-----------+-----------+-----------+\n",
      "only showing top 20 rows\n",
      "\n"
     ]
    }
   ],
   "execution_count": 5
  },
  {
   "metadata": {},
   "cell_type": "markdown",
   "source": "Do Transformation with dataframe\n",
   "id": "9f0ebb548181800c"
  },
  {
   "metadata": {
    "ExecuteTime": {
     "end_time": "2024-12-15T10:54:20.371853Z",
     "start_time": "2024-12-15T10:54:20.185662Z"
    }
   },
   "cell_type": "code",
   "source": [
    "df = (df.drop(\"GEO.id\")\n",
    "      .withColumnRenamed(\"GEO.id2\", \"id\")\n",
    "      .withColumnRenamed(\"rescen42010\", \"real2010\")\n",
    "      .withColumnRenamed(\"GEO.display-label\", \"label\")\n",
    "      .drop(\"resbase42010\")\n",
    "      .withColumnRenamed(\"respop72010\", \"est2010\")\n",
    "      .withColumnRenamed(\"respop72011\", \"est2011\")\n",
    "      .withColumnRenamed(\"respop72012\", \"est2012\")\n",
    "      .withColumnRenamed(\"respop72013\", \"est2013\")\n",
    "      .withColumnRenamed(\"respop72014\", \"est2014\")\n",
    "      .withColumnRenamed(\"respop72015\", \"est2015\")\n",
    "      .withColumnRenamed(\"respop72016\", \"est2016\")\n",
    "      .withColumnRenamed(\"respop72017\", \"est2017\"))\n",
    "df.show()"
   ],
   "id": "1aa1515efe504fa3",
   "outputs": [
    {
     "name": "stdout",
     "output_type": "stream",
     "text": [
      "+----+--------------------+--------+-------+-------+-------+-------+-------+-------+-------+-------+\n",
      "|  id|               label|real2010|est2010|est2011|est2012|est2013|est2014|est2015|est2016|est2017|\n",
      "+----+--------------------+--------+-------+-------+-------+-------+-------+-------+-------+-------+\n",
      "|1001|Autauga County, A...|   54571|  54750|  55199|  54927|  54695|  54864|  54838|  55278|  55504|\n",
      "|1003|Baldwin County, A...|  182265| 183110| 186534| 190048| 194736| 199064| 202863| 207509| 212628|\n",
      "|1005|Barbour County, A...|   27457|  27332|  27351|  27175|  26947|  26749|  26264|  25774|  25270|\n",
      "|1007|Bibb County, Alabama|   22915|  22872|  22745|  22658|  22503|  22533|  22561|  22633|  22668|\n",
      "|1009|Blount County, Al...|   57322|  57381|  57562|  57595|  57623|  57546|  57590|  57562|  58013|\n",
      "|1011|Bullock County, A...|   10914|  10880|  10675|  10612|  10549|  10673|  10419|  10441|  10309|\n",
      "|1013|Butler County, Al...|   20947|  20944|  20880|  20688|  20372|  20327|  20141|  19965|  19825|\n",
      "|1015|Calhoun County, A...|  118572| 118466| 117785| 117219| 116482| 115941| 115505| 114980| 114728|\n",
      "|1017|Chambers County, ...|   34215|  34122|  34031|  34092|  34122|  33948|  33968|  33717|  33713|\n",
      "|1019|Cherokee County, ...|   25989|  25973|  25993|  25958|  26014|  25897|  25741|  25766|  25857|\n",
      "|1021|Chilton County, A...|   43643|  43661|  43688|  43601|  43645|  43779|  43706|  43830|  44067|\n",
      "|1023|Choctaw County, A...|   13859|  13849|  13607|  13561|  13396|  13318|  13231|  13050|  12945|\n",
      "|1025|Clarke County, Al...|   25833|  25765|  25582|  25152|  25118|  24865|  24708|  24350|  24083|\n",
      "|1027|Clay County, Alabama|   13932|  13900|  13688|  13434|  13406|  13440|  13414|  13410|  13367|\n",
      "|1029|Cleburne County, ...|   14972|  15004|  14928|  14889|  14976|  15026|  14922|  14873|  14900|\n",
      "|1031|Coffee County, Al...|   49948|  50203|  50434|  51113|  50647|  50652|  50974|  51217|  51874|\n",
      "|1033|Colbert County, A...|   54428|  54525|  54534|  54569|  54528|  54461|  54358|  54327|  54500|\n",
      "|1035|Conecuh County, A...|   13228|  13229|  13187|  13041|  12908|  12677|  12678|  12515|  12469|\n",
      "|1037|Coosa County, Ala...|   11539|  11782|  11484|  11347|  11253|  11034|  10923|  10809|  10754|\n",
      "|1039|Covington County,...|   37765|  37811|  38017|  37803|  37811|  37755|  37550|  37386|  37092|\n",
      "+----+--------------------+--------+-------+-------+-------+-------+-------+-------+-------+-------+\n",
      "only showing top 20 rows\n",
      "\n"
     ]
    }
   ],
   "execution_count": 6
  },
  {
   "metadata": {},
   "cell_type": "markdown",
   "source": "More transformations\n",
   "id": "337222c0fae390ed"
  },
  {
   "metadata": {
    "ExecuteTime": {
     "end_time": "2024-12-15T10:54:20.459303Z",
     "start_time": "2024-12-15T10:54:20.386755Z"
    }
   },
   "cell_type": "code",
   "source": [
    "df = (df.withColumn(\"countryState\", F.split(F.column(\"label\"), \",\"))\n",
    "      .withColumn(\"stateId\", F.expr(\"int(id/1000)\"))\n",
    "      .withColumn(\"countryId\", F.expr(\"id%1000\")))\n",
    "df.printSchema()"
   ],
   "id": "e1770ac17c125ca9",
   "outputs": [
    {
     "name": "stdout",
     "output_type": "stream",
     "text": [
      "root\n",
      " |-- id: integer (nullable = true)\n",
      " |-- label: string (nullable = true)\n",
      " |-- real2010: integer (nullable = true)\n",
      " |-- est2010: integer (nullable = true)\n",
      " |-- est2011: integer (nullable = true)\n",
      " |-- est2012: integer (nullable = true)\n",
      " |-- est2013: integer (nullable = true)\n",
      " |-- est2014: integer (nullable = true)\n",
      " |-- est2015: integer (nullable = true)\n",
      " |-- est2016: integer (nullable = true)\n",
      " |-- est2017: integer (nullable = true)\n",
      " |-- countryState: array (nullable = true)\n",
      " |    |-- element: string (containsNull = false)\n",
      " |-- stateId: integer (nullable = true)\n",
      " |-- countryId: integer (nullable = true)\n",
      "\n"
     ]
    }
   ],
   "execution_count": 7
  },
  {
   "metadata": {
    "ExecuteTime": {
     "end_time": "2024-12-15T10:54:20.590900Z",
     "start_time": "2024-12-15T10:54:20.491139Z"
    }
   },
   "cell_type": "code",
   "source": "df.show(10, False)",
   "id": "b556d3af6b05f3e5",
   "outputs": [
    {
     "name": "stdout",
     "output_type": "stream",
     "text": [
      "+----+------------------------+--------+-------+-------+-------+-------+-------+-------+-------+-------+---------------------------+-------+---------+\n",
      "|id  |label                   |real2010|est2010|est2011|est2012|est2013|est2014|est2015|est2016|est2017|countryState               |stateId|countryId|\n",
      "+----+------------------------+--------+-------+-------+-------+-------+-------+-------+-------+-------+---------------------------+-------+---------+\n",
      "|1001|Autauga County, Alabama |54571   |54750  |55199  |54927  |54695  |54864  |54838  |55278  |55504  |[Autauga County,  Alabama] |1      |1        |\n",
      "|1003|Baldwin County, Alabama |182265  |183110 |186534 |190048 |194736 |199064 |202863 |207509 |212628 |[Baldwin County,  Alabama] |1      |3        |\n",
      "|1005|Barbour County, Alabama |27457   |27332  |27351  |27175  |26947  |26749  |26264  |25774  |25270  |[Barbour County,  Alabama] |1      |5        |\n",
      "|1007|Bibb County, Alabama    |22915   |22872  |22745  |22658  |22503  |22533  |22561  |22633  |22668  |[Bibb County,  Alabama]    |1      |7        |\n",
      "|1009|Blount County, Alabama  |57322   |57381  |57562  |57595  |57623  |57546  |57590  |57562  |58013  |[Blount County,  Alabama]  |1      |9        |\n",
      "|1011|Bullock County, Alabama |10914   |10880  |10675  |10612  |10549  |10673  |10419  |10441  |10309  |[Bullock County,  Alabama] |1      |11       |\n",
      "|1013|Butler County, Alabama  |20947   |20944  |20880  |20688  |20372  |20327  |20141  |19965  |19825  |[Butler County,  Alabama]  |1      |13       |\n",
      "|1015|Calhoun County, Alabama |118572  |118466 |117785 |117219 |116482 |115941 |115505 |114980 |114728 |[Calhoun County,  Alabama] |1      |15       |\n",
      "|1017|Chambers County, Alabama|34215   |34122  |34031  |34092  |34122  |33948  |33968  |33717  |33713  |[Chambers County,  Alabama]|1      |17       |\n",
      "|1019|Cherokee County, Alabama|25989   |25973  |25993  |25958  |26014  |25897  |25741  |25766  |25857  |[Cherokee County,  Alabama]|1      |19       |\n",
      "+----+------------------------+--------+-------+-------+-------+-------+-------+-------+-------+-------+---------------------------+-------+---------+\n",
      "only showing top 10 rows\n",
      "\n"
     ]
    }
   ],
   "execution_count": 8
  },
  {
   "metadata": {},
   "cell_type": "markdown",
   "source": "Add another transformations",
   "id": "c0e618d0257078b0"
  },
  {
   "metadata": {
    "ExecuteTime": {
     "end_time": "2024-12-15T10:57:11.005460Z",
     "start_time": "2024-12-15T10:57:10.892573Z"
    }
   },
   "cell_type": "code",
   "source": [
    "df = df.withColumn(\"country\", F.column(\"countryState\").getItem(0)).withColumn(\"state\",\n",
    "                                                                              F.column(\"countryState\").getItem(1))\n",
    "df.sample(.01).show(10, False)"
   ],
   "id": "6b6b8b28a8b7d672",
   "outputs": [
    {
     "name": "stdout",
     "output_type": "stream",
     "text": [
      "+-----+-------------------------------+--------+-------+-------+-------+-------+-------+-------+-------+-------+----------------------------------+-------+---------+-----------------------+-----------+\n",
      "|id   |label                          |real2010|est2010|est2011|est2012|est2013|est2014|est2015|est2016|est2017|countryState                      |stateId|countryId|country                |state      |\n",
      "+-----+-------------------------------+--------+-------+-------+-------+-------+-------+-------+-------+-------+----------------------------------+-------+---------+-----------------------+-----------+\n",
      "|1035 |Conecuh County, Alabama        |13228   |13229  |13187  |13041  |12908  |12677  |12678  |12515  |12469  |[Conecuh County,  Alabama]        |1      |35       |Conecuh County         | Alabama   |\n",
      "|2110 |Juneau City and Borough, Alaska|31275   |31394  |32162  |32395  |32570  |32490  |32612  |32405  |32094  |[Juneau City and Borough,  Alaska]|2      |110      |Juneau City and Borough| Alaska    |\n",
      "|4017 |Navajo County, Arizona         |107449  |107695 |107518 |107268 |107077 |107613 |107543 |108322 |108956 |[Navajo County,  Arizona]         |4      |17       |Navajo County          | Arizona   |\n",
      "|5023 |Cleburne County, Arkansas      |25970   |26003  |25890  |25773  |25638  |25603  |25358  |25159  |25048  |[Cleburne County,  Arkansas]      |5      |23       |Cleburne County        | Arkansas  |\n",
      "|5083 |Logan County, Arkansas         |22353   |22298  |22229  |21909  |22011  |21849  |21713  |21713  |21722  |[Logan County,  Arkansas]         |5      |83       |Logan County           | Arkansas  |\n",
      "|6073 |San Diego County, California   |3095313 |3103793|3139767|3179798|3216522|3256875|3290044|3317200|3337685|[San Diego County,  California]   |6      |73       |San Diego County       | California|\n",
      "|8029 |Delta County, Colorado         |30952   |30859  |30372  |30449  |30321  |29947  |29902  |30346  |30568  |[Delta County,  Colorado]         |8      |29       |Delta County           | Colorado  |\n",
      "|8033 |Dolores County, Colorado       |2064    |2069   |2044   |2009   |2033   |1977   |1980   |2062   |2067   |[Dolores County,  Colorado]       |8      |33       |Dolores County         | Colorado  |\n",
      "|8105 |Rio Grande County, Colorado    |11982   |12025  |11905  |11861  |11676  |11498  |11338  |11338  |11301  |[Rio Grande County,  Colorado]    |8      |105      |Rio Grande County      | Colorado  |\n",
      "|13177|Lee County, Georgia            |28298   |28416  |28581  |28710  |29047  |29138  |29197  |29230  |29470  |[Lee County,  Georgia]            |13     |177      |Lee County             | Georgia   |\n",
      "+-----+-------------------------------+--------+-------+-------+-------+-------+-------+-------+-------+-------+----------------------------------+-------+---------+-----------------------+-----------+\n",
      "only showing top 10 rows\n",
      "\n"
     ]
    }
   ],
   "execution_count": 24
  },
  {
   "metadata": {},
   "cell_type": "markdown",
   "source": "Create the final statistic dataframe",
   "id": "3f9c71871a2c7882"
  },
  {
   "metadata": {
    "ExecuteTime": {
     "end_time": "2024-12-15T11:11:07.322208Z",
     "start_time": "2024-12-15T11:11:07.135163Z"
    }
   },
   "cell_type": "code",
   "source": [
    "drop_columns = [\"id\", \"label\", \"real2010\", \"est2010\", \"est2011\", \"est2012\", \"est2013\", \"est2014\", \"est2015\", \"est2016\",\n",
    "                \"est2017\", \"stateId\", \"countryId\", \"CountryState\"]\n",
    "statistic_df = (df.withColumn(\"diff\", F.expr(\"est2010 - real2010\"))\n",
    "                .withColumn(\"growth\", F.expr(\"est2017 - real2010\"))\n",
    "                .drop(*drop_columns))\n",
    "statistic_df.sample(.01).show(10, False)"
   ],
   "id": "3d2bc15189dc3f93",
   "outputs": [
    {
     "name": "stdout",
     "output_type": "stream",
     "text": [
      "+------------------+--------------+----+------+\n",
      "|country           |state         |diff|growth|\n",
      "+------------------+--------------+----+------+\n",
      "|Mohave County     | Arizona      |129 |7014  |\n",
      "|Santa Clara County| California   |4900|156511|\n",
      "|Union County      | Georgia      |14  |2103  |\n",
      "|Pulaski County    | Indiana      |-74 |-868  |\n",
      "|Dickinson County  | Iowa         |3   |532   |\n",
      "|Harrison County   | Iowa         |-19 |-792  |\n",
      "|Woodson County    | Kansas       |0   |-162  |\n",
      "|Berkshire County  | Massachusetts|75  |-4906 |\n",
      "|Houston County    | Minnesota    |4   |-367  |\n",
      "|Todd County       | Minnesota    |3   |-380  |\n",
      "+------------------+--------------+----+------+\n",
      "only showing top 10 rows\n",
      "\n"
     ]
    }
   ],
   "execution_count": 30
  }
 ],
 "metadata": {
  "kernelspec": {
   "display_name": "Python 3",
   "language": "python",
   "name": "python3"
  },
  "language_info": {
   "codemirror_mode": {
    "name": "ipython",
    "version": 2
   },
   "file_extension": ".py",
   "mimetype": "text/x-python",
   "name": "python",
   "nbconvert_exporter": "python",
   "pygments_lexer": "ipython2",
   "version": "2.7.6"
  }
 },
 "nbformat": 4,
 "nbformat_minor": 5
}
