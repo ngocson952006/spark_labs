{
 "cells": [
  {
   "cell_type": "code",
   "id": "initial_id",
   "metadata": {
    "collapsed": true,
    "ExecuteTime": {
     "end_time": "2024-12-20T12:19:12.320437Z",
     "start_time": "2024-12-20T12:19:12.318007Z"
    }
   },
   "source": [
    "import os\n",
    "from pyspark.sql import SparkSession\n",
    "from pyspark.sql import functions as F"
   ],
   "outputs": [],
   "execution_count": 15
  },
  {
   "metadata": {},
   "cell_type": "markdown",
   "source": "Define data file paths",
   "id": "3c9e25b317d2427f"
  },
  {
   "metadata": {
    "ExecuteTime": {
     "end_time": "2024-12-20T12:19:12.328468Z",
     "start_time": "2024-12-20T12:19:12.325745Z"
    }
   },
   "cell_type": "code",
   "source": [
    "current_dir = os.getcwd()\n",
    "penanners_csv_file_name = \"../csv_files/hd/PEP_2017_PEPANNERS.csv\"\n",
    "institution_csv_file_name = \"../csv_files/hd/institution_campus.csv\"\n",
    "country_zip_ratios_csv_file_name = \"../csv_files/hd/country_zip_ratios.csv\"\n",
    "penanners_csv_file_path = os.path.join(current_dir, penanners_csv_file_name)\n",
    "institution_csv_file_path = os.path.join(current_dir, institution_csv_file_name)\n",
    "country_zip_ratios_csv_file_path = os.path.join(current_dir, country_zip_ratios_csv_file_name)"
   ],
   "id": "2a652f119885081",
   "outputs": [],
   "execution_count": 16
  },
  {
   "metadata": {},
   "cell_type": "markdown",
   "source": "Initialize Spark Session",
   "id": "b389efe99e965fd1"
  },
  {
   "metadata": {
    "ExecuteTime": {
     "end_time": "2024-12-20T12:19:12.346427Z",
     "start_time": "2024-12-20T12:19:12.338449Z"
    }
   },
   "cell_type": "code",
   "source": "spark = SparkSession.builder.appName(\"Data Transformation with Joins\").getOrCreate()",
   "id": "3352db386352fe9d",
   "outputs": [],
   "execution_count": 17
  },
  {
   "metadata": {},
   "cell_type": "markdown",
   "source": "Ingesting and clean cencus data into Spark",
   "id": "5b0f3b6582b1686e"
  },
  {
   "metadata": {
    "ExecuteTime": {
     "end_time": "2024-12-20T12:19:12.516196Z",
     "start_time": "2024-12-20T12:19:12.361267Z"
    }
   },
   "cell_type": "code",
   "source": [
    "cencus_df = (spark.read.format(\"csv\")\n",
    "             .option(\"header\", \"true\")\n",
    "             .option(\"inferSchema\", \"true\")\n",
    "             .option(\"encoding\", \"cp1252\")\n",
    "             .load(penanners_csv_file_path))\n",
    "# Transformation data\n",
    "drop_cols = ['GEO.id',\n",
    "             'rescen42010',\n",
    "             'resbase42010',\n",
    "             'respop72010',\n",
    "             'respop72011,',\n",
    "             'respop72012',\n",
    "             'respop72013',\n",
    "             'respop72014',\n",
    "             'respop72015',\n",
    "             'respop72016']\n",
    "cencus_df = (cencus_df.drop(*drop_cols)\n",
    "             .withColumnRenamed('respop72017', 'pop2017')\n",
    "             .withColumnRenamed('GEO.id2', 'country_id')\n",
    "             .withColumnRenamed('GEO.display-label', 'country'))\n",
    "cencus_df.show(10, False)"
   ],
   "id": "7b77951b4cbcb32",
   "outputs": [
    {
     "name": "stdout",
     "output_type": "stream",
     "text": [
      "+----------+------------------------+-----------+-------+\n",
      "|country_id|country                 |respop72011|pop2017|\n",
      "+----------+------------------------+-----------+-------+\n",
      "|1001      |Autauga County, Alabama |55199      |55504  |\n",
      "|1003      |Baldwin County, Alabama |186534     |212628 |\n",
      "|1005      |Barbour County, Alabama |27351      |25270  |\n",
      "|1007      |Bibb County, Alabama    |22745      |22668  |\n",
      "|1009      |Blount County, Alabama  |57562      |58013  |\n",
      "|1011      |Bullock County, Alabama |10675      |10309  |\n",
      "|1013      |Butler County, Alabama  |20880      |19825  |\n",
      "|1015      |Calhoun County, Alabama |117785     |114728 |\n",
      "|1017      |Chambers County, Alabama|34031      |33713  |\n",
      "|1019      |Cherokee County, Alabama|25993      |25857  |\n",
      "+----------+------------------------+-----------+-------+\n",
      "only showing top 10 rows\n",
      "\n"
     ]
    }
   ],
   "execution_count": 18
  },
  {
   "metadata": {},
   "cell_type": "markdown",
   "source": "Ingest, transform and clean up HE institution data into Spark",
   "id": "4e0195ccdc735e0c"
  },
  {
   "metadata": {
    "ExecuteTime": {
     "end_time": "2024-12-20T12:19:12.764270Z",
     "start_time": "2024-12-20T12:19:12.549616Z"
    }
   },
   "cell_type": "code",
   "source": [
    "drop_cols = [\"DapipId\", \"OpeId\", \"ParentName\", \"ParentDapipId\",\n",
    "             \"LocationType\", \"Address\", \"GeneralPhone\", \"AdminName\",\n",
    "             \"AdminPhone\", \"AdminEmail\", \"Fax\", \"UpdateDate\", \"zip9\",\n",
    "             \"address_elements\", \"address_elements_count\", \"split_zipcode\"]\n",
    "institution_df = (spark.read.format('csv')\n",
    "                  .option(\"header\", \"true\")\n",
    "                  .option(\"inferSchema\", \"true\")\n",
    "                  .option(\"encoding\", \"cp1252\")\n",
    "                  .load(institution_csv_file_path))\n",
    "institution_df = (institution_df.filter(\"LocationType='Institution'\")\n",
    "                  .withColumn(\"address_elements\", F.split(F.col('Address'), ' ')))\n",
    "institution_df = institution_df.withColumn(\"address_elements_count\", F.size(F.col('address_elements')))\n",
    "institution_df = institution_df.withColumn(\"zip9\", F.element_at(F.col('address_elements'), F.col('address_elements_count')))\n",
    "institution_df = institution_df.withColumn('split_zipcode', F.split(F.col('zip9'), '-'))\n",
    "institution_df = institution_df.withColumn('zipcode', F.col('split_zipcode').getItem(0))\n",
    "institution_df = institution_df.drop(*drop_cols)\n",
    "institution_df.show(10)"
   ],
   "id": "299fcf33647f0703",
   "outputs": [
    {
     "name": "stdout",
     "output_type": "stream",
     "text": [
      "+--------------------+-------+\n",
      "|        LocationName|zipcode|\n",
      "+--------------------+-------+\n",
      "|Community College...|  36112|\n",
      "|Alabama A & M Uni...|  35762|\n",
      "|University of Ala...|  35233|\n",
      "|  Amridge University|  36117|\n",
      "|University of Ala...|  35899|\n",
      "|Alabama State Uni...|  36104|\n",
      "|The University of...|  35487|\n",
      "|Central Alabama C...|  35010|\n",
      "|Athens State Univ...|  35611|\n",
      "|Auburn University...|  36117|\n",
      "+--------------------+-------+\n",
      "only showing top 10 rows\n",
      "\n"
     ]
    }
   ],
   "execution_count": 19
  },
  {
   "metadata": {},
   "cell_type": "markdown",
   "source": "Ingest country zip ratios data into Spark",
   "id": "629f280169174083"
  },
  {
   "metadata": {
    "ExecuteTime": {
     "end_time": "2024-12-20T12:23:19.062678Z",
     "start_time": "2024-12-20T12:23:18.791615Z"
    }
   },
   "cell_type": "code",
   "source": [
    "country_zip_ratio_df = (spark.read.format(\"csv\")\n",
    "                        .option(\"header\", \"true\")\n",
    "                        .option(\"inferSchema\", \"true\")\n",
    "                        .load(country_zip_ratios_csv_file_path))\n",
    "country_zip_ratio_df = country_zip_ratio_df.drop(*['res_ratio', 'bus_ratio', 'oth_ratio', 'tot_ratio'])\n",
    "country_zip_ratio_df.show(5)"
   ],
   "id": "7e9edb976d17d8b3",
   "outputs": [
    {
     "name": "stdout",
     "output_type": "stream",
     "text": [
      "+------+-----+\n",
      "|county|  zip|\n",
      "+------+-----+\n",
      "|  1001|36701|\n",
      "|  1001|36051|\n",
      "|  1001|36006|\n",
      "|  1001|36003|\n",
      "|  1001|36022|\n",
      "+------+-----+\n",
      "only showing top 5 rows\n",
      "\n"
     ]
    }
   ],
   "execution_count": 25
  },
  {
   "metadata": {},
   "cell_type": "markdown",
   "source": "Start joining datasets",
   "id": "6425b796067cae07"
  },
  {
   "metadata": {
    "ExecuteTime": {
     "end_time": "2024-12-20T12:23:20.551771Z",
     "start_time": "2024-12-20T12:23:20.388819Z"
    }
   },
   "cell_type": "code",
   "source": [
    "institution_country_zip_join_df = institution_df.join(country_zip_ratio_df, institution_df['zipcode'] == country_zip_ratio_df['zip'], \"inner\")\n",
    "institution_country_zip_join_df.drop('zip')# remove duplicated column\n",
    "institution_country_zip_join_df.show(10)"
   ],
   "id": "d46b7f7bd7d41d11",
   "outputs": [
    {
     "name": "stdout",
     "output_type": "stream",
     "text": [
      "+--------------------+-------+------+-----+\n",
      "|        LocationName|zipcode|county|  zip|\n",
      "+--------------------+-------+------+-----+\n",
      "|Community College...|  36112|  1101|36112|\n",
      "|Alabama A & M Uni...|  35762|  1089|35762|\n",
      "|University of Ala...|  35233|  1073|35233|\n",
      "|  Amridge University|  36117|  1101|36117|\n",
      "|University of Ala...|  35899|  1089|35899|\n",
      "|Alabama State Uni...|  36104|  1101|36104|\n",
      "|Central Alabama C...|  35010|  1123|35010|\n",
      "|Central Alabama C...|  35010|  1051|35010|\n",
      "|Central Alabama C...|  35010|  1037|35010|\n",
      "|Athens State Univ...|  35611|  1083|35611|\n",
      "+--------------------+-------+------+-----+\n",
      "only showing top 10 rows\n",
      "\n"
     ]
    }
   ],
   "execution_count": 26
  },
  {
   "metadata": {
    "ExecuteTime": {
     "end_time": "2024-12-20T12:27:19.802264Z",
     "start_time": "2024-12-20T12:27:19.461379Z"
    }
   },
   "cell_type": "code",
   "source": [
    "institution_country_zip_cencus_join =  institution_country_zip_join_df.join(cencus_df, institution_country_zip_join_df[\"county\"] == cencus_df[\"country_id\"] , \"left_outer\")\n",
    "institution_country_zip_cencus_join = institution_country_zip_cencus_join.drop(*['country_id', 'county', 'zipcode']) # remove duplicated column\n",
    "institution_country_zip_cencus_join.show(10, False)"
   ],
   "id": "d79f98831d7f554c",
   "outputs": [
    {
     "name": "stdout",
     "output_type": "stream",
     "text": [
      "+-----------------------------------+-----+--------------------------+-----------+-------+\n",
      "|LocationName                       |zip  |country                   |respop72011|pop2017|\n",
      "+-----------------------------------+-----+--------------------------+-----------+-------+\n",
      "|Community College of the Air Force |36112|Montgomery County, Alabama|229162     |226646 |\n",
      "|Alabama A & M University           |35762|Madison County, Alabama   |339519     |361046 |\n",
      "|University of Alabama at Birmingham|35233|Jefferson County, Alabama |657789     |659197 |\n",
      "|Amridge University                 |36117|Montgomery County, Alabama|229162     |226646 |\n",
      "|University of Alabama at Huntsville|35899|Madison County, Alabama   |339519     |361046 |\n",
      "|Alabama State University           |36104|Montgomery County, Alabama|229162     |226646 |\n",
      "|Central Alabama Community College  |35010|Tallapoosa County, Alabama|41394      |40681  |\n",
      "|Central Alabama Community College  |35010|Elmore County, Alabama    |80006      |81677  |\n",
      "|Central Alabama Community College  |35010|Coosa County, Alabama     |11484      |10754  |\n",
      "|Athens State University            |35611|Limestone County, Alabama |85530      |94402  |\n",
      "+-----------------------------------+-----+--------------------------+-----------+-------+\n",
      "only showing top 10 rows\n",
      "\n"
     ]
    }
   ],
   "execution_count": 30
  }
 ],
 "metadata": {
  "kernelspec": {
   "display_name": "Python 3",
   "language": "python",
   "name": "python3"
  },
  "language_info": {
   "codemirror_mode": {
    "name": "ipython",
    "version": 2
   },
   "file_extension": ".py",
   "mimetype": "text/x-python",
   "name": "python",
   "nbconvert_exporter": "python",
   "pygments_lexer": "ipython2",
   "version": "2.7.6"
  }
 },
 "nbformat": 4,
 "nbformat_minor": 5
}
