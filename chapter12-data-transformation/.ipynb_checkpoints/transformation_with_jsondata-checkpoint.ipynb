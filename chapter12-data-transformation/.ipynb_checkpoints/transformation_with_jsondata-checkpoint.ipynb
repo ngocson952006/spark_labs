{
 "cells": [
  {
   "cell_type": "code",
   "id": "initial_id",
   "metadata": {
    "collapsed": true,
    "ExecuteTime": {
     "end_time": "2024-12-21T03:19:39.487575Z",
     "start_time": "2024-12-21T03:19:39.476099Z"
    }
   },
   "source": [
    "import os\n",
    "from pyspark.sql import SparkSession\n",
    "from pyspark.sql import functions as F\n",
    "import pandas as pd\n",
    "import base64\n",
    "\n",
    "# Decoded SQL query\n",
    "decoded_query = base64.b64decode('c2VsZWN0ICogZnJvbSBpbnZvaWNlX2J5X2FjY291bnQ=').decode('utf-8')\n"
   ],
   "outputs": [],
   "execution_count": 52
  },
  {
   "metadata": {},
   "cell_type": "markdown",
   "source": "Define file paths",
   "id": "e4a1e402d36bee30"
  },
  {
   "metadata": {
    "ExecuteTime": {
     "end_time": "2024-12-21T03:19:39.493190Z",
     "start_time": "2024-12-21T03:19:39.491316Z"
    }
   },
   "cell_type": "code",
   "source": [
    "current_dir = os.getcwd()\n",
    "invoices_files_names = '../csv_files/invoices/invoice-*.json'\n",
    "invoices_files_path = os.path.join(current_dir, invoices_files_names)"
   ],
   "id": "76628478e3d67469",
   "outputs": [],
   "execution_count": 53
  },
  {
   "metadata": {},
   "cell_type": "markdown",
   "source": "Start ingest data into Spark",
   "id": "fd50ad2c2054bd99"
  },
  {
   "metadata": {
    "ExecuteTime": {
     "end_time": "2024-12-21T03:19:39.927080Z",
     "start_time": "2024-12-21T03:19:39.506887Z"
    }
   },
   "cell_type": "code",
   "source": [
    "spark = SparkSession.builder.appName('JSON data transformation').getOrCreate()\n",
    "invoices_df = spark.read.format('json').option('multiline', True).load(invoices_files_path)\n",
    "invoices_df.show(10)"
   ],
   "id": "d35f14634d2509b6",
   "outputs": [
    {
     "name": "stdout",
     "output_type": "stream",
     "text": [
      "+------------------+-------+-------------------+---------------+--------------------+--------------------+--------------------+--------------------+--------------------+--------------+--------------------+--------------------+--------------------+--------------------+--------------------+\n",
      "|          @context|  @type|          accountId|  billingPeriod|              broker|            customer|         description|   minimumPaymentDue|          paymentDue|paymentDueDate|       paymentStatus|            provider|     referencesOrder|     totalPaymentDue|                 url|\n",
      "+------------------+-------+-------------------+---------------+--------------------+--------------------+--------------------+--------------------+--------------------+--------------+--------------------+--------------------+--------------------+--------------------+--------------------+\n",
      "|http://schema.org/|Invoice|xxxx-xxxx-xxxx-7563|           NULL|{LocalBusiness, A...|{Person, Jean Geo...|                NULL|{PriceSpecificati...|                NULL|    2016-01-30|http://schema.org...|                NULL|[{Order, furnace,...|{PriceSpecificati...|                NULL|\n",
      "|http://schema.org/|Invoice|xxxx-xxxx-xxxx-1234|           NULL|{LocalBusiness, A...|  {Person, Jane Doe}|                NULL|{PriceSpecificati...|                NULL|    2015-01-30|http://schema.org...|                NULL|[{Order, furnace,...|{PriceSpecificati...|                NULL|\n",
      "|http://schema.org/|Invoice|xxxx-xxxx-xxxx-1234|2014-12-21/P30D|{BankOrCreditUnio...|  {Person, Jane Doe}|January 2015 Visa...|{PriceSpecificati...|                NULL|    2015-01-30|http://schema.org...|                NULL|                NULL|{PriceSpecificati...|http://acmebank.c...|\n",
      "| http://schema.org|Invoice|        123-456-789|           NULL|                NULL|                NULL|                NULL|{PriceSpecificati...|2015-11-22T08:00:...|          NULL|PaymentAutomatica...|{Organization, Mo...|                NULL|{PriceSpecificati...|                NULL|\n",
      "+------------------+-------+-------------------+---------------+--------------------+--------------------+--------------------+--------------------+--------------------+--------------+--------------------+--------------------+--------------------+--------------------+--------------------+\n",
      "\n"
     ]
    }
   ],
   "execution_count": 54
  },
  {
   "metadata": {},
   "cell_type": "markdown",
   "source": "Analytic invoice amount",
   "id": "fd12f4450c977009"
  },
  {
   "metadata": {
    "ExecuteTime": {
     "end_time": "2024-12-21T03:19:40.040120Z",
     "start_time": "2024-12-21T03:19:39.943127Z"
    }
   },
   "cell_type": "code",
   "source": [
    "invoice_amount_df = invoices_df.select(F.col(\"totalPaymentDue.*\"))\n",
    "invoice_amount_df.show()"
   ],
   "id": "d13e1a8b4d7f2449",
   "outputs": [
    {
     "name": "stdout",
     "output_type": "stream",
     "text": [
      "+------------------+------+-------------+\n",
      "|             @type| price|priceCurrency|\n",
      "+------------------+------+-------------+\n",
      "|PriceSpecification|4500.0|          USD|\n",
      "|PriceSpecification|   0.0|          USD|\n",
      "|PriceSpecification| 200.0|          USD|\n",
      "|PriceSpecification|  70.0|          USD|\n",
      "+------------------+------+-------------+\n",
      "\n"
     ]
    }
   ],
   "execution_count": 55
  },
  {
   "metadata": {
    "ExecuteTime": {
     "end_time": "2024-12-21T03:30:47.879134Z",
     "start_time": "2024-12-21T03:30:47.622017Z"
    }
   },
   "cell_type": "code",
   "source": [
    "invoice_by_account = invoices_df.select(F.col(\"accountId\"), F.explode(F.col(\"referencesOrder\")).alias(\"order\"))\n",
    "invoice_by_account = invoice_by_account \\\n",
    "    .withColumn(\"type\", F.col(\"order.orderedItem.@type\")) \\\n",
    "    .withColumn(\"description\", F.col(\"order.orderedItem.description\")) \\\n",
    "    .withColumn(\"name\", F.col(\"order.orderedItem.name\"))\n",
    "invoice_by_account = invoice_by_account.filter(\"description IS NOT NULL AND type = 'Service'\")\n",
    "invoice_by_account.show(10, False)"
   ],
   "id": "9df1adbdf424352a",
   "outputs": [
    {
     "name": "stdout",
     "output_type": "stream",
     "text": [
      "+-------------------+---------------------------------------------------------------------------------------------------------------------------------------------------+-------+-------------------------------+----+\n",
      "|accountId          |order                                                                                                                                              |type   |description                    |name|\n",
      "+-------------------+---------------------------------------------------------------------------------------------------------------------------------------------------+-------+-------------------------------+----+\n",
      "|xxxx-xxxx-xxxx-7563|{Order, furnace installation, 2015-12-05, NULL, {Service, furnace installation and tuning, NULL, NULL}, http://purl.org/goodrelations/v1#ByInvoice}|Service|furnace installation and tuning|NULL|\n",
      "|xxxx-xxxx-xxxx-1234|{Order, furnace installation, 2014-12-02, NULL, {Service, furnace installation, NULL, NULL}, http://purl.org/goodrelations/v1#ByInvoice}           |Service|furnace installation           |NULL|\n",
      "+-------------------+---------------------------------------------------------------------------------------------------------------------------------------------------+-------+-------------------------------+----+\n",
      "\n"
     ]
    }
   ],
   "execution_count": 59
  }
 ],
 "metadata": {
  "kernelspec": {
   "display_name": "Python 3",
   "language": "python",
   "name": "python3"
  },
  "language_info": {
   "codemirror_mode": {
    "name": "ipython",
    "version": 2
   },
   "file_extension": ".py",
   "mimetype": "text/x-python",
   "name": "python",
   "nbconvert_exporter": "python",
   "pygments_lexer": "ipython2",
   "version": "2.7.6"
  }
 },
 "nbformat": 4,
 "nbformat_minor": 5
}
