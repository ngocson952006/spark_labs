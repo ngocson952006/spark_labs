{
 "cells": [
  {
   "cell_type": "code",
   "id": "initial_id",
   "metadata": {
    "collapsed": true,
    "ExecuteTime": {
     "end_time": "2025-01-14T13:06:22.919473Z",
     "start_time": "2025-01-14T13:06:22.915751Z"
    }
   },
   "source": [
    "import os\n",
    "\n",
    "import traceback\n",
    "\n",
    "from datetime import datetime, time\n",
    "from pyspark.sql import SparkSession, DataFrame\n",
    "from pyspark.sql.types import (StructType, StructField, IntegerType, StringType, BooleanType)\n",
    "from pyspark.sql import functions as F"
   ],
   "outputs": [],
   "execution_count": 7
  },
  {
   "metadata": {},
   "cell_type": "markdown",
   "source": "Define file paths\n",
   "id": "6ead49de3500c7cf"
  },
  {
   "metadata": {
    "ExecuteTime": {
     "end_time": "2025-01-14T13:06:22.944422Z",
     "start_time": "2025-01-14T13:06:22.938205Z"
    }
   },
   "cell_type": "code",
   "source": [
    "current_dir = os.getcwd()\n",
    "file_name = '../csv_files/chapter15/orders.csv'\n",
    "file_path = os.path.join(current_dir, file_name)"
   ],
   "id": "210fb2075ac4da05",
   "outputs": [],
   "execution_count": 8
  },
  {
   "metadata": {},
   "cell_type": "markdown",
   "source": "Data Ingestion and Do Aggregation",
   "id": "97adcaf39779f88d"
  },
  {
   "metadata": {
    "ExecuteTime": {
     "end_time": "2025-01-14T13:08:07.482674Z",
     "start_time": "2025-01-14T13:08:07.208714Z"
    }
   },
   "cell_type": "code",
   "source": [
    "spark = SparkSession.builder.appName(\"Data Aggregation\").getOrCreate()\n",
    "df = spark.read.csv(path=file_path, header=True, inferSchema=True)\n",
    "df.printSchema()"
   ],
   "id": "6eb5171431e4f2b4",
   "outputs": [
    {
     "name": "stderr",
     "output_type": "stream",
     "text": [
      "25/01/14 20:08:07 WARN Utils: Service 'SparkUI' could not bind on port 4040. Attempting port 4041.\n",
      "25/01/14 20:08:07 WARN Utils: Service 'SparkUI' could not bind on port 4041. Attempting port 4042.\n",
      "25/01/14 20:08:07 WARN Utils: Service 'SparkUI' could not bind on port 4042. Attempting port 4043.\n",
      "25/01/14 20:08:07 WARN Utils: Service 'SparkUI' could not bind on port 4043. Attempting port 4044.\n",
      "25/01/14 20:08:07 WARN Utils: Service 'SparkUI' could not bind on port 4044. Attempting port 4045.\n",
      "25/01/14 20:08:07 WARN Utils: Service 'SparkUI' could not bind on port 4045. Attempting port 4046.\n",
      "25/01/14 20:08:07 WARN Utils: Service 'SparkUI' could not bind on port 4046. Attempting port 4047.\n",
      "25/01/14 20:08:07 WARN Utils: Service 'SparkUI' could not bind on port 4047. Attempting port 4048.\n",
      "25/01/14 20:08:07 WARN Utils: Service 'SparkUI' could not bind on port 4048. Attempting port 4049.\n"
     ]
    },
    {
     "name": "stdout",
     "output_type": "stream",
     "text": [
      "root\n",
      " |-- firstName: string (nullable = true)\n",
      " |-- lastName: string (nullable = true)\n",
      " |-- state: string (nullable = true)\n",
      " |-- quantity: integer (nullable = true)\n",
      " |-- revenue: integer (nullable = true)\n",
      " |-- timestamp: integer (nullable = true)\n",
      "\n"
     ]
    }
   ],
   "execution_count": 12
  },
  {
   "metadata": {},
   "cell_type": "markdown",
   "source": "Aggregation using Data Frame API",
   "id": "1e3b52716ca7e2c6"
  },
  {
   "metadata": {
    "ExecuteTime": {
     "end_time": "2025-01-14T13:08:09.968915Z",
     "start_time": "2025-01-14T13:08:09.370094Z"
    }
   },
   "cell_type": "code",
   "source": [
    "aggregation_df = (df.groupBy(F.col(\"firstName\"), F.col(\"lastName\"), F.col(\"state\"))\n",
    "                  .agg(F.sum(\"quantity\"), F.sum(\"revenue\"), F.avg(\"revenue\")))\n",
    "aggregation_df.show()"
   ],
   "id": "ae9f7b2bbe6e294d",
   "outputs": [
    {
     "name": "stdout",
     "output_type": "stream",
     "text": [
      "+------------+--------+-----+-------------+------------+------------+\n",
      "|   firstName|lastName|state|sum(quantity)|sum(revenue)|avg(revenue)|\n",
      "+------------+--------+-----+-------------+------------+------------+\n",
      "|       Ginni| Rometty|   NY|            7|          91|        91.0|\n",
      "|Jean-Georges|  Perrin|   CA|            4|          75|        75.0|\n",
      "|      Holden|   Karau|   CA|           10|         190|        95.0|\n",
      "|Jean-Georges|  Perrin|   NC|            3|         420|       210.0|\n",
      "+------------+--------+-----+-------------+------------+------------+\n",
      "\n"
     ]
    }
   ],
   "execution_count": 13
  },
  {
   "metadata": {},
   "cell_type": "markdown",
   "source": "Aggregation using SQL",
   "id": "b5c204ebe8752148"
  },
  {
   "metadata": {
    "ExecuteTime": {
     "end_time": "2025-01-14T13:12:39.955413Z",
     "start_time": "2025-01-14T13:12:39.732252Z"
    }
   },
   "cell_type": "code",
   "source": [
    "df.createOrReplaceTempView(\"df\")\n",
    "aggregation_sql = \"\"\"\n",
    "    SELECT firstName, lastName, state, SUM(quantity), SUM(revenue), AVG(revenue)\n",
    "    FROM df\n",
    "    GROUP BY firstName, lastName, state\n",
    "\"\"\"\n",
    "aggregation_df_sql = spark.sql(aggregation_sql)\n",
    "aggregation_df_sql.show()"
   ],
   "id": "d250e573e2d3cb44",
   "outputs": [
    {
     "name": "stdout",
     "output_type": "stream",
     "text": [
      "+------------+--------+-----+-------------+------------+------------+\n",
      "|   firstName|lastName|state|sum(quantity)|sum(revenue)|avg(revenue)|\n",
      "+------------+--------+-----+-------------+------------+------------+\n",
      "|       Ginni| Rometty|   NY|            7|          91|        91.0|\n",
      "|Jean-Georges|  Perrin|   CA|            4|          75|        75.0|\n",
      "|      Holden|   Karau|   CA|           10|         190|        95.0|\n",
      "|Jean-Georges|  Perrin|   NC|            3|         420|       210.0|\n",
      "+------------+--------+-----+-------------+------------+------------+\n",
      "\n"
     ]
    }
   ],
   "execution_count": 15
  },
  {
   "metadata": {
    "ExecuteTime": {
     "end_time": "2025-01-14T13:06:23.488224Z",
     "start_time": "2025-01-14T13:06:23.214187Z"
    }
   },
   "cell_type": "code",
   "source": "spark.stop()",
   "id": "38edea24722ade8a",
   "outputs": [],
   "execution_count": 10
  },
  {
   "metadata": {
    "ExecuteTime": {
     "end_time": "2025-01-14T13:06:23.495961Z",
     "start_time": "2025-01-14T13:06:23.494534Z"
    }
   },
   "cell_type": "code",
   "source": "",
   "id": "b9e218cd639709b2",
   "outputs": [],
   "execution_count": null
  }
 ],
 "metadata": {
  "kernelspec": {
   "display_name": "Python 3",
   "language": "python",
   "name": "python3"
  },
  "language_info": {
   "codemirror_mode": {
    "name": "ipython",
    "version": 2
   },
   "file_extension": ".py",
   "mimetype": "text/x-python",
   "name": "python",
   "nbconvert_exporter": "python",
   "pygments_lexer": "ipython2",
   "version": "2.7.6"
  }
 },
 "nbformat": 4,
 "nbformat_minor": 5
}
