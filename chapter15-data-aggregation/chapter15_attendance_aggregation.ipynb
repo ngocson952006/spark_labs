{
 "cells": [
  {
   "cell_type": "code",
   "id": "initial_id",
   "metadata": {
    "collapsed": true,
    "ExecuteTime": {
     "end_time": "2025-01-26T02:46:57.839024Z",
     "start_time": "2025-01-26T02:46:57.827533Z"
    }
   },
   "source": [
    "import os\n",
    "import logging\n",
    "\n",
    "import traceback\n",
    "\n",
    "from datetime import datetime, time\n",
    "from os import access\n",
    "\n",
    "from pyspark.sql import SparkSession, DataFrame\n",
    "from pyspark.sql.types import (StructType, StructField, IntegerType, StringType, DateType, LongType)\n",
    "from pyspark.sql import functions as F"
   ],
   "outputs": [],
   "execution_count": 185
  },
  {
   "metadata": {},
   "cell_type": "markdown",
   "source": "Define file paths",
   "id": "9fe76d0a7e3a7aa9"
  },
  {
   "metadata": {
    "ExecuteTime": {
     "end_time": "2025-01-26T02:46:57.851476Z",
     "start_time": "2025-01-26T02:46:57.848063Z"
    }
   },
   "cell_type": "code",
   "source": [
    "current_dir = os.getcwd()\n",
    "historical_attendance_2006_2015_file_names = '../csv_files/chapter15/nyc_school_attendance/*Historical_DateFormat1*.csv'\n",
    "historical_attendance_2015_2018_file_names = '../csv_files/chapter15/nyc_school_attendance/*Historical_DateFormat2*.csv'\n",
    "daily_attendance_file_name = '../csv_files/chapter15/nyc_school_attendance/2018-2019_Daily_Attendance.csv'\n",
    "\n",
    "historical_attendance_2006_2015_file_paths = os.path.join(current_dir, historical_attendance_2006_2015_file_names)\n",
    "historical_attendance_2015_2018_file_paths = os.path.join(current_dir, historical_attendance_2015_2018_file_names)\n",
    "daily_attendance_file_path = os.path.join(current_dir, daily_attendance_file_name)"
   ],
   "id": "6fda52a5cefd3cb8",
   "outputs": [],
   "execution_count": 186
  },
  {
   "metadata": {},
   "cell_type": "markdown",
   "source": "Configure logging",
   "id": "7a1d7c4d9649f719"
  },
  {
   "metadata": {
    "ExecuteTime": {
     "end_time": "2025-01-26T02:46:57.867488Z",
     "start_time": "2025-01-26T02:46:57.864569Z"
    }
   },
   "cell_type": "code",
   "source": [
    "logging.basicConfig(level=logging.INFO, format='%(asctime)s - %(levelname)s - %(message)s')\n",
    "logger = logging.getLogger(__name__)"
   ],
   "id": "f3afed453429fa0c",
   "outputs": [],
   "execution_count": 187
  },
  {
   "metadata": {},
   "cell_type": "markdown",
   "source": "Methods",
   "id": "91b06997016f49c2"
  },
  {
   "metadata": {
    "ExecuteTime": {
     "end_time": "2025-01-26T02:46:57.882784Z",
     "start_time": "2025-01-26T02:46:57.877401Z"
    }
   },
   "cell_type": "code",
   "source": [
    "def ingest_historical_attendance(spark: SparkSession, date_format: str, file_path: str):\n",
    "    schema = StructType([StructField('School', StringType(), False),\n",
    "                         StructField('date', DateType(), False),\n",
    "                         StructField('schoolYear', StringType(), False),\n",
    "                         StructField('enrolled', IntegerType(), False),\n",
    "                         StructField('present', IntegerType(), False),\n",
    "                         StructField('absent', IntegerType(), False),\n",
    "                         StructField('released', IntegerType(), False)])\n",
    "    df = (spark.read.format(\"csv\").option(\"header\", True)\n",
    "          .option(\"dateFormat\", date_format)\n",
    "          .schema(schema)\n",
    "          .load(file_path))\n",
    "    return df\n",
    "\n",
    "\n",
    "def ingest_daily_attendance_2018(spark: SparkSession, date_format: str, file_path: str):\n",
    "    schema = StructType([StructField('School DBN', StringType(), False),\n",
    "                         StructField('date', DateType(), False),\n",
    "                         StructField('enrolled', IntegerType(), False),\n",
    "                         StructField('absent', IntegerType(), False),\n",
    "                         StructField('present', IntegerType(), False),\n",
    "                         StructField('released', IntegerType(), False)])\n",
    "    df = (spark.read.format(\"csv\").option(\"header\", True)\n",
    "          .option(\"dateFormat\", date_format)\n",
    "          .schema(schema)\n",
    "          .load(file_path))\n",
    "    df = df.withColumn(\"schoolYear\", F.lit(2018)).withColumnRenamed(\"School DBN\", \"School\").drop(\"School DBN\")\n",
    "\n",
    "    return df"
   ],
   "id": "f52b5420c149aa3e",
   "outputs": [],
   "execution_count": 188
  },
  {
   "metadata": {},
   "cell_type": "markdown",
   "source": "Ingest Data and Do Analysis",
   "id": "cb4f3a6e5aad2848"
  },
  {
   "metadata": {
    "ExecuteTime": {
     "end_time": "2025-01-26T02:46:57.916221Z",
     "start_time": "2025-01-26T02:46:57.892532Z"
    }
   },
   "cell_type": "code",
   "source": [
    "spark = SparkSession.builder.appName(\"NYC School Attendance Analysis\").getOrCreate()\n",
    "spark.sparkContext.setLogLevel(\"WARN\")"
   ],
   "id": "a07ed93956fa8729",
   "outputs": [],
   "execution_count": 189
  },
  {
   "metadata": {},
   "cell_type": "markdown",
   "source": "Load datasets\n",
   "id": "432790640b21c9f"
  },
  {
   "metadata": {
    "ExecuteTime": {
     "end_time": "2025-01-26T02:46:58.275009Z",
     "start_time": "2025-01-26T02:46:57.933512Z"
    }
   },
   "cell_type": "code",
   "source": [
    "historical_attendance_2006_2015_df = ingest_historical_attendance(spark, \"yyyyMMdd\",\n",
    "                                                                  historical_attendance_2006_2015_file_paths)\n",
    "historical_attendance_2015_2018_df = ingest_historical_attendance(spark, \"MM/dd/yyyy\",\n",
    "                                                                  historical_attendance_2015_2018_file_paths)\n",
    "historical_attendance_df = historical_attendance_2006_2015_df.union(historical_attendance_2015_2018_df)\n",
    "historical_attendance_df.show()"
   ],
   "id": "e64e44b3ea3a4246",
   "outputs": [
    {
     "name": "stdout",
     "output_type": "stream",
     "text": [
      "+------+----------+----------+--------+-------+------+--------+\n",
      "|School|      date|schoolYear|enrolled|present|absent|released|\n",
      "+------+----------+----------+--------+-------+------+--------+\n",
      "|01M015|2006-09-05|  20062007|     252|    226|    26|       0|\n",
      "|01M015|2006-09-06|  20062007|     248|    227|    21|       0|\n",
      "|01M015|2006-09-07|  20062007|     245|    228|    17|       0|\n",
      "|01M015|2006-09-08|  20062007|     246|    226|    20|       0|\n",
      "|01M015|2006-09-11|  20062007|     248|    223|    25|       0|\n",
      "|01M015|2006-09-12|  20062007|     247|    223|    24|       0|\n",
      "|01M015|2006-09-13|  20062007|     244|    227|    17|       0|\n",
      "|01M015|2006-09-14|  20062007|     243|    217|    26|       0|\n",
      "|01M015|2006-09-15|  20062007|     240|    226|    14|       0|\n",
      "|01M015|2006-09-18|  20062007|     242|    224|    18|       0|\n",
      "|01M015|2006-09-19|  20062007|     243|    220|    23|       0|\n",
      "|01M015|2006-09-20|  20062007|     244|    228|    16|       0|\n",
      "|01M015|2006-09-21|  20062007|     243|    230|    13|       0|\n",
      "|01M015|2006-09-22|  20062007|     244|    222|    22|       0|\n",
      "|01M015|2006-09-25|  20062007|     247|    228|    19|       0|\n",
      "|01M015|2006-09-26|  20062007|     247|    229|    18|       0|\n",
      "|01M015|2006-09-27|  20062007|     246|    216|    30|       0|\n",
      "|01M015|2006-09-28|  20062007|     246|    232|    14|       0|\n",
      "|01M015|2006-09-29|  20062007|     246|    223|    23|       0|\n",
      "|01M015|2006-10-03|  20062007|     246|    228|    18|       0|\n",
      "+------+----------+----------+--------+-------+------+--------+\n",
      "only showing top 20 rows\n",
      "\n"
     ]
    }
   ],
   "execution_count": 190
  },
  {
   "metadata": {
    "ExecuteTime": {
     "end_time": "2025-01-26T02:46:58.408030Z",
     "start_time": "2025-01-26T02:46:58.316517Z"
    }
   },
   "cell_type": "code",
   "source": [
    "daily_attendance_2018_df = ingest_daily_attendance_2018(spark, \"yyyyMMdd\", daily_attendance_file_path)\n",
    "daily_attendance_2018_df.show()"
   ],
   "id": "d7a4150d92a0aa42",
   "outputs": [
    {
     "name": "stdout",
     "output_type": "stream",
     "text": [
      "+------+----------+--------+------+-------+--------+----------+\n",
      "|School|      date|enrolled|absent|present|released|schoolYear|\n",
      "+------+----------+--------+------+-------+--------+----------+\n",
      "|01M015|2018-09-05|     172|    19|    153|       0|      2018|\n",
      "|01M015|2018-09-06|     171|    17|    154|       0|      2018|\n",
      "|01M015|2018-09-07|     172|    14|    158|       0|      2018|\n",
      "|01M015|2018-09-12|     173|     7|    166|       0|      2018|\n",
      "|01M015|2018-09-13|     173|     9|    164|       0|      2018|\n",
      "|01M015|2018-09-14|     173|    11|    162|       0|      2018|\n",
      "|01M015|2018-09-17|     173|    10|    163|       0|      2018|\n",
      "|01M015|2018-09-18|     174|     7|    167|       0|      2018|\n",
      "|01M015|2018-09-20|     174|     7|    167|       0|      2018|\n",
      "|01M015|2018-09-21|     174|     8|    166|       0|      2018|\n",
      "|01M015|2018-09-24|     174|    13|    161|       0|      2018|\n",
      "|01M015|2018-09-25|     174|     9|    165|       0|      2018|\n",
      "|01M015|2018-09-26|     174|     6|    168|       0|      2018|\n",
      "|01M015|2018-09-27|     173|     7|    166|       0|      2018|\n",
      "|01M015|2018-09-28|     173|    15|    158|       0|      2018|\n",
      "|01M015|2018-10-01|     172|     4|    168|       0|      2018|\n",
      "|01M015|2018-10-02|     172|     7|    165|       0|      2018|\n",
      "|01M015|2018-10-03|     171|     8|    163|       0|      2018|\n",
      "|01M015|2018-10-04|     171|    10|    161|       0|      2018|\n",
      "|01M015|2018-10-05|     170|     8|    162|       0|      2018|\n",
      "+------+----------+--------+------+-------+--------+----------+\n",
      "only showing top 20 rows\n",
      "\n"
     ]
    }
   ],
   "execution_count": 191
  },
  {
   "metadata": {
    "ExecuteTime": {
     "end_time": "2025-01-26T02:46:58.650309Z",
     "start_time": "2025-01-26T02:46:58.512400Z"
    }
   },
   "cell_type": "code",
   "source": [
    "master_df = historical_attendance_df.union(daily_attendance_2018_df).withColumn(\"schoolYear\",\n",
    "                                                                                F.substring(F.col(\"schoolYear\"), 1, 4))\n",
    "master_df.show()"
   ],
   "id": "2997025a7ef35484",
   "outputs": [
    {
     "name": "stdout",
     "output_type": "stream",
     "text": [
      "+------+----------+----------+--------+-------+------+--------+\n",
      "|School|      date|schoolYear|enrolled|present|absent|released|\n",
      "+------+----------+----------+--------+-------+------+--------+\n",
      "|01M015|2006-09-05|      2006|     252|    226|    26|       0|\n",
      "|01M015|2006-09-06|      2006|     248|    227|    21|       0|\n",
      "|01M015|2006-09-07|      2006|     245|    228|    17|       0|\n",
      "|01M015|2006-09-08|      2006|     246|    226|    20|       0|\n",
      "|01M015|2006-09-11|      2006|     248|    223|    25|       0|\n",
      "|01M015|2006-09-12|      2006|     247|    223|    24|       0|\n",
      "|01M015|2006-09-13|      2006|     244|    227|    17|       0|\n",
      "|01M015|2006-09-14|      2006|     243|    217|    26|       0|\n",
      "|01M015|2006-09-15|      2006|     240|    226|    14|       0|\n",
      "|01M015|2006-09-18|      2006|     242|    224|    18|       0|\n",
      "|01M015|2006-09-19|      2006|     243|    220|    23|       0|\n",
      "|01M015|2006-09-20|      2006|     244|    228|    16|       0|\n",
      "|01M015|2006-09-21|      2006|     243|    230|    13|       0|\n",
      "|01M015|2006-09-22|      2006|     244|    222|    22|       0|\n",
      "|01M015|2006-09-25|      2006|     247|    228|    19|       0|\n",
      "|01M015|2006-09-26|      2006|     247|    229|    18|       0|\n",
      "|01M015|2006-09-27|      2006|     246|    216|    30|       0|\n",
      "|01M015|2006-09-28|      2006|     246|    232|    14|       0|\n",
      "|01M015|2006-09-29|      2006|     246|    223|    23|       0|\n",
      "|01M015|2006-10-03|      2006|     246|    228|    18|       0|\n",
      "+------+----------+----------+--------+-------+------+--------+\n",
      "only showing top 20 rows\n",
      "\n"
     ]
    }
   ],
   "execution_count": 192
  },
  {
   "metadata": {},
   "cell_type": "markdown",
   "source": "Start to data analysis",
   "id": "233d9d63c837ff61"
  },
  {
   "metadata": {
    "ExecuteTime": {
     "end_time": "2025-01-26T02:47:00.505737Z",
     "start_time": "2025-01-26T02:46:58.668284Z"
    }
   },
   "cell_type": "code",
   "source": [
    "# Question: What is the average enrollment for each school?\n",
    "average_enrollment_df = (master_df.groupBy(\"School\", \"schoolYear\")\n",
    "                         .avg(\"enrolled\")\n",
    "                         .withColumnRenamed(\"avg(enrolled)\", \"average_enrollment\")\n",
    "                         .orderBy(\"average_enrollment\", ascending=False))\n",
    "average_enrollment_df.show()"
   ],
   "id": "ed6597f4c0b1543c",
   "outputs": [
    {
     "name": "stderr",
     "output_type": "stream",
     "text": [
      "[Stage 558:======================================>                (12 + 5) / 17]\r"
     ]
    },
    {
     "name": "stdout",
     "output_type": "stream",
     "text": [
      "+------+----------+------------------+\n",
      "|School|schoolYear|average_enrollment|\n",
      "+------+----------+------------------+\n",
      "|13K430|      2017| 5819.798780487805|\n",
      "|13K430|      2016| 5645.208588957055|\n",
      "|13K430|      2015| 5512.363636363636|\n",
      "|13K430|      2013| 5430.193939393939|\n",
      "|13K430|      2014| 5429.263473053892|\n",
      "|13K430|      2012|5423.2760736196315|\n",
      "|13K430|      2011| 5302.305882352941|\n",
      "|13K430|      2010|5111.8452380952385|\n",
      "|13K430|      2009|            4913.0|\n",
      "|13K430|      2008| 4626.764705882353|\n",
      "|20K490|      2017| 4531.091463414634|\n",
      "|26Q430|      2017| 4507.579268292683|\n",
      "|26Q430|      2009| 4439.734939759036|\n",
      "|26Q430|      2008|  4424.80473372781|\n",
      "|26Q430|      2016| 4424.475903614458|\n",
      "|26Q430|      2006| 4418.317647058823|\n",
      "|20K490|      2016| 4410.257668711656|\n",
      "|26Q430|      2007| 4407.773255813953|\n",
      "|13K430|      2007| 4386.145348837209|\n",
      "|10X440|      2006| 4380.070588235294|\n",
      "+------+----------+------------------+\n",
      "only showing top 20 rows\n",
      "\n"
     ]
    },
    {
     "name": "stderr",
     "output_type": "stream",
     "text": [
      "                                                                                \r"
     ]
    }
   ],
   "execution_count": 193
  },
  {
   "metadata": {
    "ExecuteTime": {
     "end_time": "2025-01-26T02:47:02.366354Z",
     "start_time": "2025-01-26T02:47:00.526396Z"
    }
   },
   "cell_type": "code",
   "source": [
    "# Evolution of enrollment by year\n",
    "evolution_of_enrollment_df = (average_enrollment_df.groupBy(\"schoolYear\")\n",
    "                              .agg(F.sum(\"average_enrollment\").alias(\"sum_enrollment\"))\n",
    "                              .withColumn(\"sum_enrollment\", F.floor(F.col(\"sum_enrollment\").cast(LongType())))\n",
    "                              .orderBy(\"sum_enrollment\", ascending=False))\n",
    "evolution_of_enrollment_df.show()"
   ],
   "id": "680ed42bf0679076",
   "outputs": [
    {
     "name": "stderr",
     "output_type": "stream",
     "text": [
      "                                                                                \r"
     ]
    },
    {
     "name": "stdout",
     "output_type": "stream",
     "text": [
      "+----------+--------------+\n",
      "|schoolYear|sum_enrollment|\n",
      "+----------+--------------+\n",
      "|      2006|        994597|\n",
      "|      2011|        990235|\n",
      "|      2010|        990084|\n",
      "|      2009|        987968|\n",
      "|      2012|        986900|\n",
      "|      2013|        985040|\n",
      "|      2014|        983189|\n",
      "|      2007|        978064|\n",
      "|      2015|        977576|\n",
      "|      2008|        976091|\n",
      "|      2016|        971130|\n",
      "|      2017|        963861|\n",
      "|       478|          2086|\n",
      "|       431|          1888|\n",
      "|       432|          1871|\n",
      "|       479|          1820|\n",
      "|       441|          1787|\n",
      "|       474|          1781|\n",
      "|       480|          1771|\n",
      "|       341|          1731|\n",
      "+----------+--------------+\n",
      "only showing top 20 rows\n",
      "\n"
     ]
    }
   ],
   "execution_count": 194
  },
  {
   "metadata": {
    "ExecuteTime": {
     "end_time": "2025-01-26T02:47:05.326785Z",
     "start_time": "2025-01-26T02:47:02.442231Z"
    }
   },
   "cell_type": "code",
   "source": [
    "# Delta of enrollment by year\n",
    "max_enrollment_df = evolution_of_enrollment_df.first()\n",
    "print(max_enrollment_df)\n",
    "evolution_of_enrollment_with_delta_df = (\n",
    "    evolution_of_enrollment_df.withColumn(\"max\", F.lit(max_enrollment_df[\"sum_enrollment\"]))\n",
    "    .withColumn(\"delta_enrollment\", F.expr(\"max - sum_enrollment\"))\n",
    "    .drop(\"max\"))\n",
    "evolution_of_enrollment_with_delta_df.show()"
   ],
   "id": "9fc46981d59c52c6",
   "outputs": [
    {
     "name": "stderr",
     "output_type": "stream",
     "text": [
      "                                                                                \r"
     ]
    },
    {
     "name": "stdout",
     "output_type": "stream",
     "text": [
      "Row(schoolYear='2006', sum_enrollment=994597)\n"
     ]
    },
    {
     "name": "stderr",
     "output_type": "stream",
     "text": [
      "                                                                                \r"
     ]
    },
    {
     "name": "stdout",
     "output_type": "stream",
     "text": [
      "+----------+--------------+----------------+\n",
      "|schoolYear|sum_enrollment|delta_enrollment|\n",
      "+----------+--------------+----------------+\n",
      "|      2006|        994597|               0|\n",
      "|      2011|        990235|            4362|\n",
      "|      2010|        990084|            4513|\n",
      "|      2009|        987968|            6629|\n",
      "|      2012|        986900|            7697|\n",
      "|      2013|        985040|            9557|\n",
      "|      2014|        983189|           11408|\n",
      "|      2007|        978064|           16533|\n",
      "|      2015|        977576|           17021|\n",
      "|      2008|        976091|           18506|\n",
      "|      2016|        971130|           23467|\n",
      "|      2017|        963861|           30736|\n",
      "|       478|          2086|          992511|\n",
      "|       431|          1888|          992709|\n",
      "|       432|          1871|          992726|\n",
      "|       479|          1820|          992777|\n",
      "|       441|          1787|          992810|\n",
      "|       474|          1781|          992816|\n",
      "|       480|          1771|          992826|\n",
      "|       341|          1731|          992866|\n",
      "+----------+--------------+----------------+\n",
      "only showing top 20 rows\n",
      "\n"
     ]
    }
   ],
   "execution_count": 195
  },
  {
   "metadata": {
    "ExecuteTime": {
     "end_time": "2025-01-26T02:47:06.776254Z",
     "start_time": "2025-01-26T02:47:05.373862Z"
    }
   },
   "cell_type": "code",
   "source": [
    "# Question: Maximum enrollment per year of each school\n",
    "max_enrollment_df = (master_df.groupBy(\"School\", \"schoolYear\")\n",
    "                     .agg(F.max(\"enrolled\").alias(\"max_enrollment\"))\n",
    "                     .orderBy(\"max_enrollment\", ascending=False))\n",
    "max_enrollment_df.show()"
   ],
   "id": "6e180ef776c7f38",
   "outputs": [
    {
     "name": "stderr",
     "output_type": "stream",
     "text": [
      "[Stage 597:================================>                      (10 + 7) / 17]\r"
     ]
    },
    {
     "name": "stdout",
     "output_type": "stream",
     "text": [
      "+------+----------+--------------+\n",
      "|School|schoolYear|max_enrollment|\n",
      "+------+----------+--------------+\n",
      "|13K430|      2017|          5850|\n",
      "|13K430|      2016|          5676|\n",
      "|13K430|      2015|          5550|\n",
      "|13K430|      2012|          5497|\n",
      "|13K430|      2013|          5481|\n",
      "|13K430|      2014|          5467|\n",
      "|13K430|      2011|          5353|\n",
      "|13K430|      2010|          5185|\n",
      "|13K430|      2009|          4982|\n",
      "|13K430|      2008|          4685|\n",
      "|20K490|      2017|          4620|\n",
      "|26Q430|      2017|          4576|\n",
      "|10X440|      2006|          4571|\n",
      "|10X440|      2007|          4542|\n",
      "|26Q430|      2006|          4542|\n",
      "|10X440|      2009|          4534|\n",
      "|26Q430|      2009|          4490|\n",
      "|10X440|      2010|          4486|\n",
      "|20K490|      2016|          4484|\n",
      "|13K430|      2007|          4475|\n",
      "+------+----------+--------------+\n",
      "only showing top 20 rows\n",
      "\n"
     ]
    },
    {
     "name": "stderr",
     "output_type": "stream",
     "text": [
      "                                                                                \r"
     ]
    }
   ],
   "execution_count": 196
  },
  {
   "metadata": {
    "ExecuteTime": {
     "end_time": "2025-01-26T02:47:08.748747Z",
     "start_time": "2025-01-26T02:47:06.901550Z"
    }
   },
   "cell_type": "code",
   "source": [
    "# Question: Minimum of absence per year of each school\n",
    "min_absence_df = (master_df.groupBy(\"School\", \"schoolYear\")\n",
    "                  .agg(F.min(\"absent\").alias(\"min_absent\"))\n",
    "                  .orderBy(\"min_absent\"))\n",
    "min_absence_df.show()"
   ],
   "id": "9288e658333aa63d",
   "outputs": [
    {
     "name": "stderr",
     "output_type": "stream",
     "text": [
      "[Stage 600:=============================>                          (9 + 8) / 17]\r"
     ]
    },
    {
     "name": "stdout",
     "output_type": "stream",
     "text": [
      "+------+----------+----------+\n",
      "|School|schoolYear|min_absent|\n",
      "+------+----------+----------+\n",
      "|10X284|      2008|         0|\n",
      "|12X267|      2006|         0|\n",
      "|11X416|      2006|         0|\n",
      "|10X414|      2008|         0|\n",
      "|11X417|      2007|         0|\n",
      "|06M540|      2007|         0|\n",
      "|03M243|      2006|         0|\n",
      "|05M283|      2007|         0|\n",
      "|07X547|      2008|         0|\n",
      "|02M439|      2006|         0|\n",
      "|10X268|      2006|         0|\n",
      "|13K266|      2007|         0|\n",
      "|03M208|      2006|         0|\n",
      "|08X332|      2006|         0|\n",
      "|02M473|      2007|         0|\n",
      "|10X430|      2006|         0|\n",
      "|02M625|      2007|         0|\n",
      "|12X262|      2006|         0|\n",
      "|08X518|      2007|         0|\n",
      "|05M318|      2007|         0|\n",
      "+------+----------+----------+\n",
      "only showing top 20 rows\n",
      "\n"
     ]
    },
    {
     "name": "stderr",
     "output_type": "stream",
     "text": [
      "                                                                                \r"
     ]
    }
   ],
   "execution_count": 197
  },
  {
   "metadata": {
    "ExecuteTime": {
     "end_time": "2025-01-26T02:48:03.516491Z",
     "start_time": "2025-01-26T02:48:01.234845Z"
    }
   },
   "cell_type": "code",
   "source": [
    "average_absenteeism_percentage_df = (master_df.groupBy(\"School\")\n",
    "                                     .agg(F.avg(\"enrolled\").alias(\"average_enrollment\"),\n",
    "                                          F.avg(\"absent\").alias(\"average_absenteeism\"))\n",
    "                                     .withColumn(\"average_absenteeism_percentage\",\n",
    "                                                 F.expr(\"(average_absenteeism / average_enrollment) *  100\"))\n",
    "                                     )\n",
    "\n",
    "# Question: Top 5 schools with the least absenteeism\n",
    "logger.info(\"#Question: Top 5 schools with the least absenteeism\")\n",
    "average_absenteeism_percentage_df.show(5)\n",
    "\n",
    "# Question: Top 5 schools with the most absenteeism\n",
    "logger.info(\"#Question: Top 5 schools with most absenteeism\")\n",
    "average_absenteeism_percentage_df.orderBy(\"average_absenteeism_percentage\", ascending=False).show(5)"
   ],
   "id": "29b8e394bc66defb",
   "outputs": [
    {
     "name": "stderr",
     "output_type": "stream",
     "text": [
      "2025-01-26 09:48:01,291 - INFO - #Question: Top 5 schools with the least absenteeism\n",
      "2025-01-26 09:48:02,445 - INFO - #Question: Top 5 schools with most absenteeism \n"
     ]
    },
    {
     "name": "stdout",
     "output_type": "stream",
     "text": [
      "+------+------------------+-------------------+------------------------------+\n",
      "|School|average_enrollment|average_absenteeism|average_absenteeism_percentage|\n",
      "+------+------------------+-------------------+------------------------------+\n",
      "|02M042| 742.0204359673024|  17.23887375113533|            2.3232343633046475|\n",
      "|02M529| 661.0445859872611| 125.33414992650661|            18.960014586508073|\n",
      "|08X093| 386.9034013605442| 31.672562358276643|              8.18616798066396|\n",
      "|01M064| 283.0816326530612|  25.69342403628118|             9.076330313443716|\n",
      "|01M539|1489.4512913457181|  60.30357951971001|             4.048711083745866|\n",
      "+------+------------------+-------------------+------------------------------+\n",
      "only showing top 5 rows\n",
      "\n"
     ]
    },
    {
     "name": "stderr",
     "output_type": "stream",
     "text": [
      "[Stage 612:===================>                                    (6 + 8) / 17]\r"
     ]
    },
    {
     "name": "stdout",
     "output_type": "stream",
     "text": [
      "+------+------------------+-------------------+------------------------------+\n",
      "|School|average_enrollment|average_absenteeism|average_absenteeism_percentage|\n",
      "+------+------------------+-------------------+------------------------------+\n",
      "|10X476|175.64229765013056| 112.70496083550914|             64.16732321505552|\n",
      "|79Q979| 130.6936416184971|  74.28901734104046|             56.84210526315789|\n",
      "|79K957|134.52469135802468|  71.67901234567901|            53.283164318817974|\n",
      "|22K585|207.41176470588235| 106.46323529411765|             51.32941009642656|\n",
      "|79X921|126.02173913043478|  64.29891304347827|             51.02208038640676|\n",
      "+------+------------------+-------------------+------------------------------+\n",
      "only showing top 5 rows\n",
      "\n"
     ]
    },
    {
     "name": "stderr",
     "output_type": "stream",
     "text": [
      "                                                                                \r"
     ]
    }
   ],
   "execution_count": 199
  }
 ],
 "metadata": {
  "kernelspec": {
   "display_name": "Python 3",
   "language": "python",
   "name": "python3"
  },
  "language_info": {
   "codemirror_mode": {
    "name": "ipython",
    "version": 2
   },
   "file_extension": ".py",
   "mimetype": "text/x-python",
   "name": "python",
   "nbconvert_exporter": "python",
   "pygments_lexer": "ipython2",
   "version": "2.7.6"
  }
 },
 "nbformat": 4,
 "nbformat_minor": 5
}
